{
 "cells": [
  {
   "cell_type": "code",
   "execution_count": 7,
   "id": "e9eb7b1e-5b60-49a7-93ab-61541ad1661b",
   "metadata": {},
   "outputs": [
    {
     "name": "stdin",
     "output_type": "stream",
     "text": [
      " this is a car \n"
     ]
    },
    {
     "name": "stdout",
     "output_type": "stream",
     "text": [
      "car a is this "
     ]
    }
   ],
   "source": [
    "a=input()\n",
    "s=[]\n",
    "for e in a.split():\n",
    " s.append(e)\n",
    "\n",
    "while len(s)>0:\n",
    "    print(s.pop(),end=' ')"
   ]
  },
  {
   "cell_type": "code",
   "execution_count": 1,
   "id": "256d3694-012a-436b-bb22-5f137c73eda3",
   "metadata": {},
   "outputs": [
    {
     "name": "stdin",
     "output_type": "stream",
     "text": [
      " this is a car\n"
     ]
    },
    {
     "name": "stdout",
     "output_type": "stream",
     "text": [
      "rac a si siht"
     ]
    }
   ],
   "source": [
    "a =input()\n",
    "s=[]\n",
    "for e in a:\n",
    "    s.append(e)\n",
    "\n",
    "while len(s)>0:\n",
    "    print(s.pop(),end=\"\")"
   ]
  },
  {
   "cell_type": "code",
   "execution_count": null,
   "id": "8b971c11-9c39-4ba8-968e-61873fad7c2d",
   "metadata": {},
   "outputs": [],
   "source": [
    "#infix & postfix \n",
    "    rules\n",
    "> identify the char operator , brackets,operands\n",
    "> operator (+,-),(*,/),(6,%)\n",
    "> \n"
   ]
  },
  {
   "cell_type": "code",
   "execution_count": 11,
   "id": "60eb3f77-56e4-4c42-9507-142c0af6553e",
   "metadata": {},
   "outputs": [
    {
     "name": "stdin",
     "output_type": "stream",
     "text": [
      "Enter the infix expression:  a+b*c\n"
     ]
    },
    {
     "name": "stdout",
     "output_type": "stream",
     "text": [
      "Postfix expression: abc*+\n"
     ]
    }
   ],
   "source": [
    "def prec(e):\n",
    "    if e == \"^\":\n",
    "        return 3\n",
    "    elif e == \"+\" or e == \"-\":  \n",
    "        return 1\n",
    "    elif e == \"*\" or e == \"/\":  \n",
    "        return 2\n",
    "\n",
    "exp = input(\"Enter the infix expression: \")\n",
    "s = []\n",
    "result = \"\"\n",
    "\n",
    "for e in exp:\n",
    "    if e.isalnum():\n",
    "        result += e\n",
    "    elif e == '(':\n",
    "        s.append(e)\n",
    "    elif e == ')':\n",
    "        while s and s[-1] != '(':\n",
    "            result += s.pop()\n",
    "        s.pop()  \n",
    "    else:\n",
    "        while s and (prec(e) < prec(s[-1]) or\n",
    "                     (prec(e) == prec(s[-1]) and asco(e) == 'L')):\n",
    "            result += s.pop()\n",
    "        s.append(e)\n",
    "\n",
    "while s:\n",
    "    result += s.pop()\n",
    "\n",
    "print(\"Postfix expression:\", result)\n"
   ]
  },
  {
   "cell_type": "code",
   "execution_count": null,
   "id": "86cc1eec-0bbb-4145-a637-796031f881d1",
   "metadata": {},
   "outputs": [],
   "source": [
    "in a arcade, there is a king got spelled by a with that whenever he have to take care of what is sequence of his food intake.\n",
    "if the eats similar food one after other it will cancle out the its effect and total every was decreased \n",
    "your  task is to ddetermine the total enery of king after his meal\n",
    "\n",
    "ex:\n",
    "[\"apple\",\"dal\",\"chapati\",\"rice\",\"apple\",\"dal\",\"rice\",\"dal\",\"rice\",\"chapati\",\"chapati\"]\n",
    "\n",
    "consider that energy relaeased by each item will be same which is 1 unit\n",
    "\n",
    "so the total energy intake is 6 unit as per above example.\n",
    "[\"applE\",\"Ddal\",\"chapati\",\"dal\",\"rice\",\"dal\"]\n",
    "\n",
    "write a code to find the energy sorted by the king after have all the food .\n",
    "\n",
    "[\"apple\",\"dal\",\"chapati\",\"rice\",\"rice\",\"apple\",\"apple\",\"dal\",\"chapati\",\"chapati\"]\n",
    "[\"apple\",\"dal\",\"rice\",\"dal\"]"
   ]
  },
  {
   "cell_type": "code",
   "execution_count": 32,
   "id": "456fe424-5841-4c4e-ae74-25482274ec99",
   "metadata": {},
   "outputs": [
    {
     "name": "stdin",
     "output_type": "stream",
     "text": [
      " A D C R R A A D R D C C \n"
     ]
    },
    {
     "name": "stdout",
     "output_type": "stream",
     "text": [
      "['A', 'D', 'C', 'R', 'R', 'A', 'A', 'D', 'R', 'D', 'C', 'C']\n",
      "5 ['A', 'D', 'C', 'D', 'R']\n"
     ]
    }
   ],
   "source": [
    "a=[item for item in input().split()]\n",
    "print(a)\n",
    "T=[]\n",
    "for item in a:\n",
    "    if not T:\n",
    "        T.append(item)\n",
    "    elif T[-1] == item:\n",
    "        T.pop()\n",
    "    else:\n",
    "        T.append(item)\n",
    "        \n",
    "print(len(s),s)"
   ]
  },
  {
   "cell_type": "code",
   "execution_count": 7,
   "id": "76cc1286-854e-46a2-ac5c-9fd51ae128b5",
   "metadata": {},
   "outputs": [
    {
     "name": "stdout",
     "output_type": "stream",
     "text": [
      "[{'this ia strg'}]\n",
      "string is invalid\n"
     ]
    }
   ],
   "source": [
    "s=[({'this ia strg'})]\n",
    "print(s)\n",
    "if s==[({'this is a strg'})]:\n",
    "    print(\"string is valid\")\n",
    "else:\n",
    "    print(\"string is invalid\")"
   ]
  },
  {
   "cell_type": "code",
   "execution_count": 36,
   "id": "6e242545-0ac0-470c-ad19-c8ffa67b994e",
   "metadata": {},
   "outputs": [
    {
     "name": "stdin",
     "output_type": "stream",
     "text": [
      " ({}){{()}}\n"
     ]
    },
    {
     "name": "stdout",
     "output_type": "stream",
     "text": [
      "vaild\n"
     ]
    }
   ],
   "source": [
    "s=input()\n",
    "s=[]\n",
    "for e in s:\n",
    "    if e =='(' or e =='{' or e =='[':\n",
    "        s.append(e)\n",
    "    elif (e== ')' and s[-1]=='(') or (e== '{' and s[-1]=='}') or (e== '[' and s[-1]==']'):\n",
    "            s.pop()\n",
    "    else:\n",
    "        continue\n",
    "\n",
    "if  not s:\n",
    "     print(\"vaild\")\n",
    "else:\n",
    "     print(\"invalid\")"
   ]
  },
  {
   "cell_type": "code",
   "execution_count": null,
   "id": "f318406c-fda4-4ef9-ae8e-b5f662702dfa",
   "metadata": {},
   "outputs": [],
   "source": [
    "s=input()\n",
    "s=[]\n",
    "for e in s:\n",
    "    if e =='(' or e =='{' or e =='[':\n",
    "        s.append(e)\n",
    "    elif (e== ')' and s[-1]=='(') or (e== '{' and s[-1]=='}') or (e== '[' and s[-1]==']'):\n",
    "            s.pop()\n",
    "    else:\n",
    "        continue\n",
    "\n",
    "if  not s:\n",
    "     print(\"vaild\")\n",
    "else:\n",
    "     print(\"invalid\")"
   ]
  }
 ],
 "metadata": {
  "kernelspec": {
   "display_name": "Python 3 (ipykernel)",
   "language": "python",
   "name": "python3"
  },
  "language_info": {
   "codemirror_mode": {
    "name": "ipython",
    "version": 3
   },
   "file_extension": ".py",
   "mimetype": "text/x-python",
   "name": "python",
   "nbconvert_exporter": "python",
   "pygments_lexer": "ipython3",
   "version": "3.12.3"
  }
 },
 "nbformat": 4,
 "nbformat_minor": 5
}
