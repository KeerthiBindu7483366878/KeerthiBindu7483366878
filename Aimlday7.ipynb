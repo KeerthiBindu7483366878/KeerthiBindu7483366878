{
 "cells": [
  {
   "cell_type": "code",
   "execution_count": 3,
   "id": "72ced3b5-f7b2-413e-96dd-1f5eab24e287",
   "metadata": {},
   "outputs": [],
   "source": [
    "#Find the maximum  sum of any 3 consecutive elements  of this array \n",
    "#find the "
   ]
  },
  {
   "cell_type": "code",
   "execution_count": 87,
   "id": "686d6082-5ac6-4c66-addc-f249123186aa",
   "metadata": {},
   "outputs": [
    {
     "name": "stdout",
     "output_type": "stream",
     "text": [
      "52\n"
     ]
    }
   ],
   "source": [
    "L=[2,4,6,1,3,7,4,6,9,3,6,8,3,6,4,1,3,9,6,4,5,6,8,3,7,3,6,8]\n",
    "max = 0\n",
    "for x in range(0,len(L)-9):\n",
    "    sum = L[x]+L[x+1]+L[2]+L[3]+L[4]+L[x+5]+L[x+6]+L[x+7]+L[x+8]+L[x+9]\n",
    "    if(max<sum):\n",
    "        max=sum\n",
    "\n",
    "print(max)\n"
   ]
  },
  {
   "cell_type": "code",
   "execution_count": 92,
   "id": "2dad3b85-2e90-40c8-bf90-1c8a1bddcf08",
   "metadata": {},
   "outputs": [
    {
     "name": "stdout",
     "output_type": "stream",
     "text": [
      "64\n"
     ]
    }
   ],
   "source": [
    "def number_four_elements(arr):\n",
    "    arr=[2,4,6,1,3,7,4,6,9,3,6,8,3,6,4,1,3,9,6,4,5,6,8,3,7,3,6,8]\n",
    "    max=0\n",
    "\n",
    "for x in range(0,len(arr)-9):\n",
    "    sum = arr[x]+arr[x+1]+arr[x+2]+arr[x+3]+arr[x+4]+arr[x+5]+arr[x+6]+arr[x+7]+arr[x+8]+arr[x+9]\n",
    "    if(max<sum):\n",
    "        max=sum\n",
    "\n",
    "print(max)\n",
    "\n",
    "    \n",
    "    "
   ]
  },
  {
   "cell_type": "code",
   "execution_count": 96,
   "id": "5d25d663-25ac-4882-99d9-4f1b06c53b02",
   "metadata": {},
   "outputs": [
    {
     "name": "stdin",
     "output_type": "stream",
     "text": [
      "enter the consecutive number: 5\n"
     ]
    },
    {
     "name": "stdout",
     "output_type": "stream",
     "text": [
      "27\n"
     ]
    }
   ],
   "source": [
    "max = 0\n",
    "\n",
    "con=int(input('enter the consecutive number:'))\n",
    "\n",
    "for x in range(0,len(L)-con):\n",
    "    s=0\n",
    "for j in range(0,con):  \n",
    "    s=s+L[x+j]\n",
    "    if max<s:\n",
    "        max=s\n",
    "        \n",
    "print(max)"
   ]
  },
  {
   "cell_type": "code",
   "execution_count": 32,
   "id": "112c2cc9-078b-4c69-9e31-ee260f9b7fc5",
   "metadata": {},
   "outputs": [
    {
     "name": "stdin",
     "output_type": "stream",
     "text": [
      "Enter the number of consecutive elements:  8\n"
     ]
    },
    {
     "name": "stdout",
     "output_type": "stream",
     "text": [
      "the sum of 8 consecutive elements: 33\n"
     ]
    }
   ],
   "source": [
    "L = [2, 4, 6, 1, 3, 7, 4, 6, 9, 3, 6, 8, 3, 6, 4, 1, 3, 9, 6, 4, 5, 6, 8, 3, 7, 3, 6, 8]\n",
    "max_sum = sum_val = 0\n",
    "\n",
    "con = int(input('Enter the number of consecutive elements: '))\n",
    "\n",
    "for i in range(con):\n",
    "    sum_val += L[i]\n",
    "\n",
    "for x in range(len(L) - con + 1):\n",
    "    if max_sum < sum_val:\n",
    "        max_sum = sum_val\n",
    "        \n",
    "print(\"the sum of\", con, \"consecutive elements:\", max_sum)\n"
   ]
  },
  {
   "cell_type": "code",
   "execution_count": 25,
   "id": "b3a13374-76be-41cf-b820-a0c79f04ee19",
   "metadata": {},
   "outputs": [
    {
     "name": "stdout",
     "output_type": "stream",
     "text": [
      "Sorted array: [11, 12, 22, 25, 34, 64, 90]\n"
     ]
    }
   ],
   "source": [
    "def bubble_sort(arr):\n",
    "    n = len(arr)\n",
    "    for i in range(n):\n",
    "        for j in range(0, n - i - 1):\n",
    "            if arr[j] > arr[j + 1]:\n",
    "                arr[j], arr[j + 1] = arr[j + 1], arr[j]\n",
    "\n",
    "arr = [64, 34, 25, 12, 22, 11, 90]\n",
    "bubble_sort(arr)\n",
    "print(\"Sorted array:\", arr)\n"
   ]
  },
  {
   "cell_type": "code",
   "execution_count": 42,
   "id": "3590f7c3-30ec-490e-9b77-c434f3b23d84",
   "metadata": {},
   "outputs": [
    {
     "name": "stdout",
     "output_type": "stream",
     "text": [
      "[11, 12, 22, 25, 34, 64, 90]\n"
     ]
    }
   ],
   "source": [
    "arr = [64, 34, 25, 12, 22, 11, 90]\n",
    "\n",
    "for i in range(0,len(arr)):\n",
    "    min_idx=i\n",
    "    for j in range(i+1,len(arr)):\n",
    "        if arr[min_idx]>arr[j]:\n",
    "                min_idx=j\n",
    "    temp=arr[i]\n",
    "    arr[i]=arr[min_idx]\n",
    "    arr[min_idx]=temp\n",
    "\n",
    "print(arr)\n"
   ]
  },
  {
   "cell_type": "code",
   "execution_count": 43,
   "id": "1424b8f2-cfbe-418d-a812-13eb91275a1e",
   "metadata": {},
   "outputs": [
    {
     "name": "stdout",
     "output_type": "stream",
     "text": [
      "[11, 12, 22, 25, 34, 64, 90]\n"
     ]
    }
   ],
   "source": [
    "arr = [64, 34, 25, 12, 22, 11, 90]\n",
    "\n",
    "for i in range(0,len(arr)):\n",
    "    x=i\n",
    "    for j in range(i+1,len(arr)):\n",
    "        if arr[x]>arr[j]:\n",
    "                x=j\n",
    "    temp=arr[i]\n",
    "    arr[i]=arr[x]\n",
    "    arr[x]=temp\n",
    "\n",
    "print(arr)\n"
   ]
  },
  {
   "cell_type": "code",
   "execution_count": 10,
   "id": "51cf9f24-1fa7-48d7-8b0a-d68fda1819cc",
   "metadata": {},
   "outputs": [
    {
     "name": "stdout",
     "output_type": "stream",
     "text": [
      "[4, 4, 6, 6, 4, 98]\n"
     ]
    }
   ],
   "source": [
    "arr=[4,9,8,6,4,98]\n",
    "for i in range(1,len(arr)):\n",
    "    temp=arr[i]\n",
    "    j=i=1\n",
    "    while j>=0 and temp <arr[j]:\n",
    "        arr[j+1] =arr[j]\n",
    "        j -=1\n",
    "        arr[j+1] =temp\n",
    "\n",
    "print(arr)"
   ]
  },
  {
   "cell_type": "code",
   "execution_count": 6,
   "id": "b404c43a-e683-4fcd-8dc9-152e238530a1",
   "metadata": {},
   "outputs": [
    {
     "name": "stdout",
     "output_type": "stream",
     "text": [
      "[4, 5, 8, 9, 12, 16, 18, 19]\n"
     ]
    }
   ],
   "source": [
    "arr=[4,8,9,5,12,16,18,19]\n",
    "for i in range(0,len(arr)):\n",
    "    for j in range(0,len(arr)-1):\n",
    "     if arr[j] > arr[j+1]:\n",
    "        temp=arr[j]\n",
    "        arr[j]=arr[j+1]\n",
    "        arr[j+1]=temp\n",
    "        \n",
    "print(arr)\n"
   ]
  },
  {
   "cell_type": "code",
   "execution_count": null,
   "id": "18d065c9-6323-4c89-8ede-815b049dab41",
   "metadata": {},
   "outputs": [],
   "source": []
  }
 ],
 "metadata": {
  "kernelspec": {
   "display_name": "Python 3 (ipykernel)",
   "language": "python",
   "name": "python3"
  },
  "language_info": {
   "codemirror_mode": {
    "name": "ipython",
    "version": 3
   },
   "file_extension": ".py",
   "mimetype": "text/x-python",
   "name": "python",
   "nbconvert_exporter": "python",
   "pygments_lexer": "ipython3",
   "version": "3.12.3"
  }
 },
 "nbformat": 4,
 "nbformat_minor": 5
}
