{
 "cells": [
  {
   "cell_type": "code",
   "execution_count": null,
   "id": "0e5fe5c0-2eb8-4ec1-968e-6752b3a86de2",
   "metadata": {},
   "outputs": [],
   "source": [
    "#insertion start mid end \n",
    "#deletion \n",
    "#level "
   ]
  },
  {
   "cell_type": "code",
   "execution_count": 8,
   "id": "dcc5877a-d556-4870-9bae-d2b2409a2290",
   "metadata": {},
   "outputs": [
    {
     "name": "stdin",
     "output_type": "stream",
     "text": [
      " 43\n"
     ]
    },
    {
     "ename": "NameError",
     "evalue": "name 'node' is not defined",
     "output_type": "error",
     "traceback": [
      "\u001b[1;31m---------------------------------------------------------------------------\u001b[0m",
      "\u001b[1;31mNameError\u001b[0m                                 Traceback (most recent call last)",
      "Cell \u001b[1;32mIn[8], line 2\u001b[0m\n\u001b[0;32m      1\u001b[0m X \u001b[38;5;241m=\u001b[39m \u001b[38;5;28mint\u001b[39m(\u001b[38;5;28minput\u001b[39m())\n\u001b[1;32m----> 2\u001b[0m temp \u001b[38;5;241m=\u001b[39m \u001b[43mnode\u001b[49m(X)   \n\u001b[0;32m      3\u001b[0m curr \u001b[38;5;241m=\u001b[39m Head    \n\u001b[0;32m      5\u001b[0m \u001b[38;5;28;01mif\u001b[39;00m curr \u001b[38;5;241m==\u001b[39m \u001b[38;5;28;01mNone\u001b[39;00m:  \n",
      "\u001b[1;31mNameError\u001b[0m: name 'node' is not defined"
     ]
    }
   ],
   "source": [
    "X = int(input())\n",
    "temp = node(X)   \n",
    "curr = Head    \n",
    "\n",
    "if curr == None:  \n",
    "    Head = temp   \n",
    "else:\n",
    "   \n",
    "    while curr.next != None:\n",
    "        curr = curr.next\n",
    "   \n",
    "    curr.next = temp\n"
   ]
  },
  {
   "cell_type": "code",
   "execution_count": 4,
   "id": "84b2e2c5-fe94-405a-a301-4b1a23d58b04",
   "metadata": {},
   "outputs": [
    {
     "name": "stdout",
     "output_type": "stream",
     "text": [
      "Sorted array is: [5, 6, 11, 12, 13, 65]\n"
     ]
    }
   ],
   "source": [
    "def insertion(arr):\n",
    "    for i in range(1, len(arr)):\n",
    "        key = arr[i]\n",
    "        j = i - 1\n",
    "        while j >= 0 and arr[j] > key:\n",
    "            arr[j + 1] = arr[j]\n",
    "            j -= 1\n",
    "        arr[j + 1] = key\n",
    "\n",
    "\n",
    "arr = [12,65,11, 13, 5, 6]\n",
    "insertion(arr)\n",
    "print(\"Sorted array is:\", arr)\n"
   ]
  },
  {
   "cell_type": "code",
   "execution_count": 12,
   "id": "e1c3cc0c-9ea9-4c12-b481-bb04dd083cbd",
   "metadata": {},
   "outputs": [
    {
     "name": "stdout",
     "output_type": "stream",
     "text": [
      "List after insertion: [0, 1, 6, 3, 8, 3, 9, 6]\n"
     ]
    }
   ],
   "source": [
    "def insert_start(lst, ele):\n",
    "    lst.insert(0, ele)\n",
    "\n",
    "def insert_mid(lst, ele):\n",
    "    mid_index = len(lst) // 2\n",
    "    lst.insert(mid_index, ele)\n",
    "\n",
    "def insert_end(lst, ele):\n",
    "    lst.append(ele)\n",
    "\n",
    "\n",
    "my_list = [1,6,8,3,9,]\n",
    "\n",
    "\n",
    "insert_start(my_list, 0)\n",
    "insert_mid(my_list, 3)\n",
    "insert_end(my_list, 6)\n",
    "\n",
    "print(\"List after insertion:\", my_list)\n"
   ]
  },
  {
   "cell_type": "code",
   "execution_count": 22,
   "id": "bcd0972a-b7d5-40f6-9c94-c8ab6f0a6641",
   "metadata": {},
   "outputs": [
    {
     "name": "stdout",
     "output_type": "stream",
     "text": [
      "List after deletion: [0, 1, 6, 3, 8, 3, 9, 6]\n"
     ]
    }
   ],
   "source": [
    "def deletion_start(lst, ele):\n",
    "    lst.insert(0, ele)\n",
    "\n",
    "def deletion_mid(lst, ele):\n",
    "    mid_index = len(lst) // 2\n",
    "    lst.insert(mid_index, ele)\n",
    "\n",
    "def deletion_end(lst, ele):\n",
    "    lst.append(ele)\n",
    "\n",
    "\n",
    "my_list = [1,6,8,3,9,]\n",
    "\n",
    "\n",
    "deletion_start(my_list, 0)\n",
    "deletion_mid(my_list, 3)\n",
    "deletion_end(my_list, 6)\n",
    "\n",
    "print(\"List after deletion:\", my_list)\n"
   ]
  },
  {
   "cell_type": "code",
   "execution_count": 25,
   "id": "8c575215-7d74-41d4-9293-fbdede3dd319",
   "metadata": {},
   "outputs": [
    {
     "name": "stdout",
     "output_type": "stream",
     "text": [
      "1 -->\n",
      "2 -->\n",
      "3 -->\n",
      "4 -->\n",
      "5 -->\n"
     ]
    }
   ],
   "source": [
    "class Node:\n",
    "    def __init__(self,value):\n",
    "        self.data=value\n",
    "        self.next=None\n",
    "Head=Node(1)\n",
    "Head.next=Node(2)\n",
    "Head.next.next=Node(3)\n",
    "Head.next.next.next=Node(4)\n",
    "Head.next.next.next.next=Node(5)\n",
    "\n",
    "print(Head.data,\"-->\")\n",
    "print(Head.next.data,\"-->\")\n",
    "print(Head.next.next.data,\"-->\")\n",
    "print(Head.next.next.next.data,\"-->\")\n",
    "print(Head.next.next.next.next.data,\"-->\")\n"
   ]
  },
  {
   "cell_type": "code",
   "execution_count": 75,
   "id": "d4262363-8710-4b9b-b112-6e0c41b1800d",
   "metadata": {},
   "outputs": [
    {
     "name": "stdout",
     "output_type": "stream",
     "text": [
      "1 -->\n",
      "2 -->\n",
      "3 -->\n",
      "4 -->\n",
      "5 -->\n"
     ]
    }
   ],
   "source": [
    "print(Head.data,\"-->\")\n",
    "print(Head.next.data,\"-->\")\n",
    "print(Head.next.next.data,\"-->\")\n",
    "print(Head.next.next.next.data,\"-->\")\n",
    "print(Head.next.next.next.next.data,\"-->\")\n"
   ]
  },
  {
   "cell_type": "code",
   "execution_count": 10,
   "id": "a406e2eb-0858-4097-8ecc-2401dda6d971",
   "metadata": {},
   "outputs": [
    {
     "name": "stdin",
     "output_type": "stream",
     "text": [
      " 12\n"
     ]
    }
   ],
   "source": [
    "class Node:\n",
    "    def __init__(self, data):\n",
    "        self.data = data\n",
    "        self.next = None\n",
    "\n",
    "head = None \n",
    "\n",
    "x = int(input())\n",
    "temp = Node(x)\n",
    "\n",
    "curr = head\n",
    "\n",
    "if curr is None:\n",
    "    head = temp\n",
    "else:\n",
    "    while curr.next is not None:\n",
    "        curr = curr.next\n",
    "    curr.next = temp\n"
   ]
  },
  {
   "cell_type": "code",
   "execution_count": null,
   "id": "0c3ed8cc-d12c-4a96-8697-fd3ebc906698",
   "metadata": {},
   "outputs": [],
   "source": [
    "curr = Head\n",
    "while curr!=None:\n",
    "    print(curr.data,\"-->\",end=\"\")\n",
    "    cur=curr.next"
   ]
  },
  {
   "cell_type": "code",
   "execution_count": 21,
   "id": "3632752c-184a-4f88-8aee-44ad2e786ae7",
   "metadata": {},
   "outputs": [
    {
     "name": "stdin",
     "output_type": "stream",
     "text": [
      " 10\n"
     ]
    },
    {
     "ename": "AttributeError",
     "evalue": "'Node' object has no attribute 'next'",
     "output_type": "error",
     "traceback": [
      "\u001b[1;31m---------------------------------------------------------------------------\u001b[0m",
      "\u001b[1;31mAttributeError\u001b[0m                            Traceback (most recent call last)",
      "Cell \u001b[1;32mIn[21], line 8\u001b[0m\n\u001b[0;32m      6\u001b[0m     head \u001b[38;5;241m=\u001b[39m temp\n\u001b[0;32m      7\u001b[0m \u001b[38;5;28;01melse\u001b[39;00m:\n\u001b[1;32m----> 8\u001b[0m     \u001b[38;5;28;01mwhile\u001b[39;00m \u001b[43mcurr\u001b[49m\u001b[38;5;241;43m.\u001b[39;49m\u001b[43mnext\u001b[49m \u001b[38;5;241m!=\u001b[39m \u001b[38;5;28;01mNone\u001b[39;00m:\n\u001b[0;32m      9\u001b[0m         curr \u001b[38;5;241m=\u001b[39m curr\u001b[38;5;241m.\u001b[39mnext\n\u001b[0;32m     10\u001b[0m     curr\u001b[38;5;241m.\u001b[39mnext \u001b[38;5;241m=\u001b[39m temp\n",
      "\u001b[1;31mAttributeError\u001b[0m: 'Node' object has no attribute 'next'"
     ]
    }
   ],
   "source": [
    "x = int(input())\n",
    "temp = Node(x)\n",
    "curr = head\n",
    "\n",
    "if curr == None:\n",
    "    head = temp\n",
    "else:\n",
    "    while curr.next != None:\n",
    "        curr = curr.next\n",
    "    curr.next = temp\n"
   ]
  },
  {
   "cell_type": "code",
   "execution_count": 54,
   "id": "237693fd-5f67-4d75-ab27-cb1f7643f652",
   "metadata": {},
   "outputs": [
    {
     "name": "stdin",
     "output_type": "stream",
     "text": [
      "Enter the location value:  1\n",
      "Enter the value:  12\n"
     ]
    }
   ],
   "source": [
    "L = int(input(\"Enter the location value: \"))\n",
    "X = int(input(\"Enter the value: \"))\n",
    "curr = head\n",
    "while curr != None:\n",
    "    if (curr.data == L):\n",
    "        break\n",
    "    curr = curr.next\n",
    "temp = Node(x)\n",
    "temp.next = curr.next\n",
    "curr.next = temp\n"
   ]
  },
  {
   "cell_type": "code",
   "execution_count": null,
   "id": "5203168e-5bd1-4a62-87ff-f77b91a0c818",
   "metadata": {},
   "outputs": [],
   "source": [
    "curr = head\n",
    "while curr != None:\n",
    "    print("
   ]
  },
  {
   "cell_type": "code",
   "execution_count": 15,
   "id": "1f5fdaf5-d76c-42ce-b270-3abfe5039f29",
   "metadata": {},
   "outputs": [
    {
     "name": "stdout",
     "output_type": "stream",
     "text": [
      "1\n",
      "2\n",
      "4\n",
      "5\n",
      "3\n",
      "6\n",
      "7\n"
     ]
    }
   ],
   "source": [
    "class Node:\n",
    "    def __init__(self, value):\n",
    "        self.data = value\n",
    "        self.left = None\n",
    "        self.right = None\n",
    "        \n",
    "def preorder(root):\n",
    "    if root is None:\n",
    "        return\n",
    "    print(root.data)\n",
    "    preorder(root.left)\n",
    "    preorder(root.right)\n",
    "\n",
    "    \n",
    "root = Node(1)\n",
    "root.left = Node(2)\n",
    "root.right = Node(3)\n",
    "\n",
    "root.left.left = Node(4)\n",
    "root.left.right = Node(5)\n",
    "\n",
    "root.right.left = Node(6)\n",
    "root.right.right = Node(7) \n",
    "\n",
    "preorder(root)\n"
   ]
  },
  {
   "cell_type": "code",
   "execution_count": 17,
   "id": "e02c603d-310d-4f6b-b917-0ce5bab8195c",
   "metadata": {},
   "outputs": [
    {
     "name": "stdout",
     "output_type": "stream",
     "text": [
      "4\n",
      "5\n",
      "2\n",
      "6\n",
      "7\n",
      "3\n",
      "1\n"
     ]
    }
   ],
   "source": [
    "class Node:\n",
    "    def __init__(self, value):\n",
    "        self.data = value\n",
    "        self.left = None\n",
    "        self.right = None\n",
    "        \n",
    "def postorder(root):\n",
    "    if root is None:\n",
    "        return\n",
    "    postorder(root.left)\n",
    "    postorder(root.right)\n",
    "    print(root.data)\n",
    "\n",
    "    \n",
    "root = Node(1)\n",
    "root.left = Node(2)\n",
    "root.right = Node(3)\n",
    "\n",
    "root.left.left = Node(4)\n",
    "root.left.right = Node(5)\n",
    "\n",
    "root.right.left = Node(6)\n",
    "root.right.right = Node(7) \n",
    "\n",
    "postorder(root)\n"
   ]
  },
  {
   "cell_type": "code",
   "execution_count": 19,
   "id": "e38f5c68-5251-4818-82b8-bbc044fb1a37",
   "metadata": {},
   "outputs": [
    {
     "name": "stdout",
     "output_type": "stream",
     "text": [
      "4\n",
      "2\n",
      "5\n",
      "1\n",
      "6\n",
      "3\n",
      "7\n"
     ]
    }
   ],
   "source": [
    "class Node:\n",
    "    def __init__(self, value):\n",
    "        self.data = value\n",
    "        self.left = None\n",
    "        self.right = None\n",
    "        \n",
    "def inorder(root):\n",
    "    if root is None:\n",
    "        return\n",
    "    inorder(root.left)\n",
    "    print(root.data)\n",
    "    inorder(root.right)\n",
    "\n",
    "    \n",
    "root = Node(1)\n",
    "root.left = Node(2)\n",
    "root.right = Node(3)\n",
    "\n",
    "root.left.left = Node(4)\n",
    "root.left.right = Node(5)\n",
    "\n",
    "root.right.left = Node(6)\n",
    "root.right.right = Node(7) \n",
    "\n",
    "inorder(root)\n"
   ]
  },
  {
   "cell_type": "code",
   "execution_count": 6,
   "id": "74c1b329-eff8-4ee4-953a-b9fee69bda43",
   "metadata": {},
   "outputs": [
    {
     "name": "stdout",
     "output_type": "stream",
     "text": [
      "level order traversal\n"
     ]
    },
    {
     "ename": "NameError",
     "evalue": "name 'root' is not defined",
     "output_type": "error",
     "traceback": [
      "\u001b[1;31m---------------------------------------------------------------------------\u001b[0m",
      "\u001b[1;31mNameError\u001b[0m                                 Traceback (most recent call last)",
      "Cell \u001b[1;32mIn[6], line 19\u001b[0m\n\u001b[0;32m     15\u001b[0m             Q\u001b[38;5;241m.\u001b[39mappend(curr\u001b[38;5;241m.\u001b[39mright)\n\u001b[0;32m     18\u001b[0m \u001b[38;5;28mprint\u001b[39m(\u001b[38;5;124m\"\u001b[39m\u001b[38;5;124mlevel order traversal\u001b[39m\u001b[38;5;124m\"\u001b[39m)\n\u001b[1;32m---> 19\u001b[0m levelorder(\u001b[43mroot\u001b[49m)\n",
      "\u001b[1;31mNameError\u001b[0m: name 'root' is not defined"
     ]
    }
   ],
   "source": [
    "def levelorder(root):\n",
    "    Q=[root,None]\n",
    "    while Q:\n",
    "        curr = Q.pop(0)\n",
    "        if curr == None:\n",
    "            print()\n",
    "            if Q:\n",
    "                Q.append(curr)\n",
    "    else:\n",
    "        print(curr.data,end=\" \")\n",
    "        if curr.left !=None:\n",
    "            Q.append(curr.left)\n",
    "     \n",
    "        if curr.right !=None: \n",
    "            Q.append(curr.right)\n",
    "                \n",
    "\n",
    "print(\"level order traversal\")\n",
    "levelorder(root)"
   ]
  },
  {
   "cell_type": "code",
   "execution_count": null,
   "id": "7034f4c2-6f60-493a-93ff-771af81297be",
   "metadata": {},
   "outputs": [],
   "source": []
  }
 ],
 "metadata": {
  "kernelspec": {
   "display_name": "Python 3 (ipykernel)",
   "language": "python",
   "name": "python3"
  },
  "language_info": {
   "codemirror_mode": {
    "name": "ipython",
    "version": 3
   },
   "file_extension": ".py",
   "mimetype": "text/x-python",
   "name": "python",
   "nbconvert_exporter": "python",
   "pygments_lexer": "ipython3",
   "version": "3.12.3"
  }
 },
 "nbformat": 4,
 "nbformat_minor": 5
}
