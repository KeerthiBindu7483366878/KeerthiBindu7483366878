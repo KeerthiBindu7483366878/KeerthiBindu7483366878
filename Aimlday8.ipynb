{
 "cells": [
  {
   "cell_type": "code",
   "execution_count": 2,
   "id": "5b30cb99-cb18-4eb7-a074-15045a0b864c",
   "metadata": {
    "scrolled": true
   },
   "outputs": [
    {
     "name": "stdout",
     "output_type": "stream",
     "text": [
      "Sorted List: [12, 12, 14, 14, 18, 18, 23, 23, 24, 24, 28, 28, 43, 43, 43, 43, 76, 76, 97, 97, 98, 98, 995, 995]\n"
     ]
    },
    {
     "name": "stdin",
     "output_type": "stream",
     "text": [
      "Enter the element to search for:  18\n"
     ]
    },
    {
     "name": "stdout",
     "output_type": "stream",
     "text": [
      "Element 18 found at index 5\n"
     ]
    }
   ],
   "source": [
    "l = [12, 76, 98, 43, 97, 43, 23, 14, 18, 24, 995, 28, 12, 76, 98, 43, 97, 43, 23, 14, 18, 24, 995, 28]\n",
    "l.sort()\n",
    "print(\"Sorted List:\", l)\n",
    "\n",
    "src = int(input(\"Enter the element to search for: \"))\n",
    "\n",
    "low = 0\n",
    "high = len(l)- 1 \n",
    "flag = False \n",
    "\n",
    "while low <= high: \n",
    "    mid = (low + high) // 2 \n",
    "\n",
    "    if src == l[mid]:\n",
    "        flag = True\n",
    "        break\n",
    "    elif src < l[mid]:\n",
    "        high = mid - 1\n",
    "    else:\n",
    "        low = mid + 1\n",
    "\n",
    "if flag:\n",
    "    print(\"Element\", src, \"found at index\", mid)\n",
    "else:\n",
    "    print(\"Element\", src, \"not found\")\n"
   ]
  },
  {
   "cell_type": "code",
   "execution_count": 4,
   "id": "cb99e4e7-c0a3-4e63-be6b-c9f5605d5522",
   "metadata": {},
   "outputs": [
    {
     "name": "stdin",
     "output_type": "stream",
     "text": [
      " 8\n"
     ]
    },
    {
     "name": "stdout",
     "output_type": "stream",
     "text": [
      "Valid string\n"
     ]
    }
   ],
   "source": [
    "s = input()\n",
    "x = y = z = 0\n",
    "\n",
    "for c in s:\n",
    "    match c:\n",
    "        case '(':\n",
    "            x += 1\n",
    "        case ')':\n",
    "            x -= 1\n",
    "        case '{':\n",
    "            y += 1\n",
    "        case '}':\n",
    "            y -= 1\n",
    "        case '[':\n",
    "            z += 1\n",
    "        case ']':\n",
    "            z -= 1\n",
    "        case _: continue\n",
    "\n",
    "if x + y + z == 0:\n",
    "    print(\"Valid string\")\n",
    "else:\n",
    "    print(\"Invalid string\")\n"
   ]
  },
  {
   "cell_type": "code",
   "execution_count": 3,
   "id": "26e15a66-7f21-4cf5-9c6e-653252d02dee",
   "metadata": {},
   "outputs": [
    {
     "name": "stdout",
     "output_type": "stream",
     "text": [
      "Queue after adding new values: [2, 4, 6, 9, 12, 7, 3, 8, 9, 12, 7, 5, 3]\n"
     ]
    }
   ],
   "source": [
    "queue = [2, 4, 6, 9,12, 7, 3]\n",
    "new_values = [8, 9,12, 7, 5, 3]\n",
    "for value in new_values:\n",
    "    queue.append(value)\n",
    "\n",
    "print(\"Queue after adding new values:\", queue)\n"
   ]
  },
  {
   "cell_type": "code",
   "execution_count": 1,
   "id": "190be4b6-4890-4d07-948c-7c62fdb7ecc0",
   "metadata": {},
   "outputs": [
    {
     "name": "stdout",
     "output_type": "stream",
     "text": [
      "Item added to stack\n",
      "Item added to stack\n",
      "Item added to stack\n",
      "Item added to stack\n",
      "Item added to stack\n",
      "[3, 6, 7, 8, 12]\n"
     ]
    }
   ],
   "source": [
    "def add(E):\n",
    "    s.append(E)  \n",
    "    print(\"Item added to stack\")\n",
    "\n",
    "def delete(s): \n",
    "    s.pop()\n",
    "    print(\"Item is removed from stack\")\n",
    "\n",
    "s = []\n",
    "add(3)\n",
    "add(6)\n",
    "add(7)\n",
    "add(8)\n",
    "add(12)\n",
    "print(s)\n"
   ]
  },
  {
   "cell_type": "code",
   "execution_count": 8,
   "id": "f28f2e0f-f578-4554-aad9-55f666a33764",
   "metadata": {},
   "outputs": [
    {
     "name": "stdout",
     "output_type": "stream",
     "text": [
      "Queue after adding new values: [2, 4, 6, 9, 12, 7, 3, 8, 9, 12, 7, 5, 3]\n",
      "[2, 6, 9, 12, 7, 3, 8, 9, 12, 7, 5, 3]\n"
     ]
    }
   ],
   "source": [
    "queue = [2, 4, 6, 9,12, 7, 3]\n",
    "new_values = [8, 9,12, 7, 5, 3]\n",
    "for value in new_values:\n",
    "    queue.append(value)\n",
    "\n",
    "print(\"Queue after adding new values:\", queue)\n",
    "\n",
    "queue.pop(1)\n",
    "print(queue)\n"
   ]
  },
  {
   "cell_type": "code",
   "execution_count": null,
   "id": "0252e6ed-0ac8-4a34-a2db-fa356383a686",
   "metadata": {},
   "outputs": [],
   "source": []
  }
 ],
 "metadata": {
  "kernelspec": {
   "display_name": "Python 3 (ipykernel)",
   "language": "python",
   "name": "python3"
  },
  "language_info": {
   "codemirror_mode": {
    "name": "ipython",
    "version": 3
   },
   "file_extension": ".py",
   "mimetype": "text/x-python",
   "name": "python",
   "nbconvert_exporter": "python",
   "pygments_lexer": "ipython3",
   "version": "3.12.3"
  }
 },
 "nbformat": 4,
 "nbformat_minor": 5
}
