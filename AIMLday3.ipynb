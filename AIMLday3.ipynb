{
 "cells": [
  {
   "cell_type": "code",
   "execution_count": 64,
   "id": "2ea52ade-b42b-4a15-9adf-478f52626e39",
   "metadata": {},
   "outputs": [
    {
     "name": "stdout",
     "output_type": "stream",
     "text": [
      "[1, 2, 3, 4, 5.6, 7]\n",
      "3\n",
      "<class 'int'>\n"
     ]
    }
   ],
   "source": [
    "a=[1,2,3,4,5.6,7]\n",
    "print(a)\n",
    "print(a[2])\n",
    "print(type(3))\n"
   ]
  },
  {
   "cell_type": "code",
   "execution_count": 28,
   "id": "b016d696-b376-4253-ba1d-7dbd2092cb41",
   "metadata": {},
   "outputs": [
    {
     "name": "stdout",
     "output_type": "stream",
     "text": [
      "1\n",
      "2\n",
      "3\n",
      "4\n",
      "5.6\n",
      "7\n",
      "8\n"
     ]
    }
   ],
   "source": [
    "x=[1,2,3,4,5.6,7,8]\n",
    "for a in range(0,7):\n",
    "    print(x[a])"
   ]
  },
  {
   "cell_type": "code",
   "execution_count": 46,
   "id": "a4a1ca63-9c81-4d60-b3b5-15afd51b94c5",
   "metadata": {},
   "outputs": [
    {
     "name": "stdout",
     "output_type": "stream",
     "text": [
      "[1, 2, 3, 4, 5]\n",
      "4\n",
      "[1, 2, 3, 5, 10]\n",
      "[1, 2, 3, 5, 10, 3, 7]\n",
      "2\n",
      "2\n",
      "1\n",
      "[1, 2, 3, 5, 9, 10, 3, 7]\n",
      "[1, 2, 3, 3, 5, 7, 9, 10]\n",
      "[10, 9, 7, 5, 3, 3, 2, 1]\n",
      "8\n",
      "[10, 9, 7, 5, 3, 3, 2, 1, 1, 2, 3, 4, 5]\n",
      "[1, 2, 3, 4, 5, 10, 9, 7, 5, 3, 3, 2, 1, 1, 2, 3, 4, 5]\n"
     ]
    }
   ],
   "source": [
    "a=[1,2,3,4,5]\n",
    "b=a.copy()\n",
    "print(b)\n",
    "\n",
    "c=b.pop(3)\n",
    "print(c)\n",
    "\n",
    "\n",
    "b.append(10)\n",
    "print(b)\n",
    "b.append(3)\n",
    "b.append(7)\n",
    "print(b)\n",
    "\n",
    "print(b.index(3))\n",
    "\n",
    "print(b.count(3))\n",
    "print(b.count(10))\n",
    "\n",
    "b.insert(4,9)\n",
    "print(b)\n",
    "\n",
    "b.sort()\n",
    "print(b)\n",
    "b.sort(reverse=True)\n",
    "print(b)\n",
    "\n",
    "print(len(b))\n",
    "\n",
    "b.extend(a)\n",
    "print(b)\n",
    "print(a+b)"
   ]
  },
  {
   "cell_type": "code",
   "execution_count": 38,
   "id": "90266716-00e4-40cc-86dc-51d29c4d8a26",
   "metadata": {},
   "outputs": [
    {
     "name": "stdout",
     "output_type": "stream",
     "text": [
      "1\n",
      "2\n",
      "3\n",
      "4\n",
      "5\n",
      "6\n",
      "7\n",
      "8\n",
      "9\n"
     ]
    }
   ],
   "source": [
    "a={1,2,3,4,5,6,7,8,9}\n",
    "for x in a:\n",
    "    print(x)"
   ]
  },
  {
   "cell_type": "code",
   "execution_count": 82,
   "id": "310cfe7d-0321-48f4-9c88-940abeb8afc6",
   "metadata": {},
   "outputs": [
    {
     "name": "stdin",
     "output_type": "stream",
     "text": [
      "enter the element of the list: 1 2 3 4 5 6 7 \n"
     ]
    },
    {
     "name": "stdout",
     "output_type": "stream",
     "text": [
      "[1, 2, 3, 4, 5, 6, 7]\n"
     ]
    }
   ],
   "source": [
    "L =[int(item) for item in (input(\"enter the element of the list:\").split())]\n",
    "print(L)"
   ]
  },
  {
   "cell_type": "code",
   "execution_count": 56,
   "id": "9daf498b-35fe-4cbf-8942-dc3230badfc7",
   "metadata": {},
   "outputs": [
    {
     "name": "stdin",
     "output_type": "stream",
     "text": [
      "enter the element of the list: 1 2 3 4 5 6 \n"
     ]
    },
    {
     "name": "stdout",
     "output_type": "stream",
     "text": [
      "['1', '2', '3', '4', '5', '6']\n"
     ]
    }
   ],
   "source": [
    "L=[item for item in(input(\"enter the element of the list:\").split())]\n",
    "print(L)"
   ]
  },
  {
   "cell_type": "code",
   "execution_count": 51,
   "id": "e5d40a9a-4829-4a1d-8a41-2386ea2116b6",
   "metadata": {},
   "outputs": [
    {
     "name": "stdout",
     "output_type": "stream",
     "text": [
      "[1, 2, 3, 4, 5, 6, 7]\n"
     ]
    }
   ],
   "source": [
    "a= list([1,2,3,4,5,6,7])\n",
    "print(a)"
   ]
  },
  {
   "cell_type": "code",
   "execution_count": 60,
   "id": "88176f2f-a8e1-48c5-a689-d81114659e3f",
   "metadata": {},
   "outputs": [
    {
     "name": "stdout",
     "output_type": "stream",
     "text": [
      "[1, 2, 3, 4, 5, 6, 7, 'keerthi']\n",
      "[1, 2, 3, 4, 5, 6, 7, 'keerthi']\n",
      "(1, 2, 3, 4, 5, 'keerthi', 7, 'keerthi')\n",
      "4\n",
      "1\n",
      "keerthi\n",
      "7\n",
      "keerthi\n",
      "5\n",
      "4\n",
      "3\n",
      "2\n",
      "1\n"
     ]
    }
   ],
   "source": [
    "a= list([1,2,3,4,5,6,7,\"keerthi\"])\n",
    "print(a)\n",
    "\n",
    "b=list(a)\n",
    "print(b)\n",
    "b[5]=\"keerthi\"\n",
    "\n",
    "a=tuple(b)\n",
    "print(a)\n",
    "print(a[-5])\n",
    "\n",
    "for x  in range(0,-1*(len(a)+1),-1):\n",
    "    print(a[x])"
   ]
  },
  {
   "cell_type": "code",
   "execution_count": 61,
   "id": "9e83d74d-4c9e-4202-9068-3d58cced0b64",
   "metadata": {},
   "outputs": [
    {
     "name": "stdout",
     "output_type": "stream",
     "text": [
      "9\n",
      "8\n",
      "7\n",
      "6\n",
      "5\n",
      "4\n",
      "3\n",
      "2\n",
      "1\n"
     ]
    }
   ],
   "source": [
    "a=(1,2,3,4,5,6,7,8,9)\n",
    "for x in range(-1,-1*(len(a)+1),-1):\n",
    "    print(a[x])"
   ]
  },
  {
   "cell_type": "code",
   "execution_count": 62,
   "id": "bd0c34d7-157d-4e84-93d3-57c9ca75714b",
   "metadata": {},
   "outputs": [
    {
     "name": "stdout",
     "output_type": "stream",
     "text": [
      "9\n",
      "8\n",
      "7\n",
      "6\n",
      "5\n",
      "4\n",
      "3\n",
      "2\n",
      "1\n"
     ]
    }
   ],
   "source": [
    "a=(1,2,3,4,5,6,7,8,9)\n",
    "for x in range(0,len(a)):\n",
    "    print(a[-1*(x+1)])"
   ]
  },
  {
   "cell_type": "code",
   "execution_count": 84,
   "id": "99ebc5c6-8408-4e4c-b54f-38384ff0f654",
   "metadata": {},
   "outputs": [
    {
     "name": "stdout",
     "output_type": "stream",
     "text": [
      "1\n",
      "2\n",
      "3\n",
      "4\n",
      "5\n",
      "6\n",
      "7\n",
      "8\n",
      "9\n"
     ]
    }
   ],
   "source": [
    "a=(1,2,3,4,5,6,7,8,9)\n",
    "for x in range(len(a),0,-1):\n",
    "    print(a[-1*x])"
   ]
  },
  {
   "cell_type": "code",
   "execution_count": null,
   "id": "7a46a226-9624-4983-adf5-e30ad6ad7b30",
   "metadata": {},
   "outputs": [],
   "source": [
    "dictionary\n",
    "\n",
    "key & values\n",
    "\n",
    "key values pair\n",
    "\n",
    "write a prg to take key and values from   the user & add  it to dicti if key is not present in dicit we have\n",
    "to add key value otherwise print key allready exist and print its value after adding key we have to print the dicit \n",
    "\n",
    "create a list from the user prints the value otherwise prints the defaults the value \n",
    "\n",
    "\n",
    "write the prg python to find sum of all the elements in  list and handled the case of consit of non -numeric value (using expection)\n",
    "\n",
    "create a dcit a stu name marks with cpga\n",
    "write a prg \n"
   ]
  },
  {
   "cell_type": "code",
   "execution_count": 85,
   "id": "4a4fffcd-0273-499f-a6cd-8e166fbb87b5",
   "metadata": {},
   "outputs": [
    {
     "name": "stdout",
     "output_type": "stream",
     "text": [
      "{1: 'keerthi', 2: 'bindu', 3: 'K', 4: 'n'}\n",
      "bindu\n",
      "dict_keys([1, 2, 3, 4])\n",
      "dict_values(['keerthi', 'bindu', 'K', 'n'])\n",
      "dict_items([(1, 'keerthi'), (2, 'bindu'), (3, 'K'), (4, 'n')])\n",
      "n\n"
     ]
    }
   ],
   "source": [
    "D={1:\"keerthi\",2:\"bindu\",3:\"K\",4:\"n\"}\n",
    "print(D)\n",
    "\n",
    "print(D[2])\n",
    "print(D.keys())\n",
    "print(D.values())\n",
    "print(D.items())\n",
    "\n",
    "print(D.get(4))"
   ]
  },
  {
   "cell_type": "code",
   "execution_count": 4,
   "id": "91f849f5-c9aa-4e0e-8a2f-a973311f236c",
   "metadata": {},
   "outputs": [
    {
     "ename": "IndentationError",
     "evalue": "unexpected indent (1431565397.py, line 8)",
     "output_type": "error",
     "traceback": [
      "\u001b[1;36m  Cell \u001b[1;32mIn[4], line 8\u001b[1;36m\u001b[0m\n\u001b[1;33m    print(c)\u001b[0m\n\u001b[1;37m    ^\u001b[0m\n\u001b[1;31mIndentationError\u001b[0m\u001b[1;31m:\u001b[0m unexpected indent\n"
     ]
    }
   ],
   "source": [
    "A=int(input())\n",
    "B=int(input())\n",
    "try:\n",
    "    print(\"Division is a zero\")\n",
    "    c=A/B\n",
    "except:\n",
    "    print(\"Division successful\")\n",
    "     print(c)\n",
    "finally:\n",
    "    print(\"error handelled\")\n",
    "\n",
    "print(\"we have recived the results as: \",c)\n"
   ]
  },
  {
   "cell_type": "code",
   "execution_count": 37,
   "id": "813a4dc5-cff9-4d99-95ea-52a541fd8908",
   "metadata": {},
   "outputs": [
    {
     "name": "stdin",
     "output_type": "stream",
     "text": [
      " 2\n",
      " 5\n"
     ]
    },
    {
     "name": "stdout",
     "output_type": "stream",
     "text": [
      "no error\n",
      "Code Execution done\n"
     ]
    }
   ],
   "source": [
    "try:\n",
    "      a=input()\n",
    "      b=input()\n",
    "      c=int(a)/int(b)\n",
    "except ValueError:\n",
    "        print(\"Data type issue\")\n",
    "except ZeroDivisionError:\n",
    "     print(\"Can't Divide by Zero\")\n",
    "except :\n",
    "\n",
    "    print(\"Some unknown Error Found\")\n",
    "else:\n",
    "   print(\"no error\")\n",
    "finally:\n",
    "      print(\"Code Execution done\")\n",
    "        \n",
    "    "
   ]
  },
  {
   "cell_type": "code",
   "execution_count": 36,
   "id": "f9290353-4235-487a-94d6-29dcb38ed5db",
   "metadata": {},
   "outputs": [
    {
     "name": "stdin",
     "output_type": "stream",
     "text": [
      " 2\n",
      " 3\n"
     ]
    },
    {
     "name": "stdout",
     "output_type": "stream",
     "text": [
      "Some unknown Error Found\n",
      "Code Execution done\n"
     ]
    }
   ],
   "source": [
    "try:\n",
    "    a=input()\n",
    "      b=input()\n",
    "      c=int(a)/int(b)\n",
    "      x=\"hello\"/3\n",
    "except ValueError:\n",
    "      print(\"Value unable to convert\")\n",
    "except ZeroDivisionError:\n",
    "     print(\"Can't Divide by Zero\")\n",
    "except :\n",
    "    print(\"Some unknown Error Found\")\n",
    "else:\n",
    "   print(\"no error\")\n",
    "finally:\n",
    "      print(\"Code Execution done\")"
   ]
  },
  {
   "cell_type": "code",
   "execution_count": 24,
   "id": "40430401-b6a3-49ea-87bd-4c3d78aa9ea0",
   "metadata": {},
   "outputs": [
    {
     "name": "stdin",
     "output_type": "stream",
     "text": [
      "enter the index: 4\n"
     ]
    },
    {
     "name": "stdout",
     "output_type": "stream",
     "text": [
      "there is no such index\n"
     ]
    }
   ],
   "source": [
    "a=[1,2,3,4,5,6,7]\n",
    "i=input(\"enter the index:\")\n",
    "try:\n",
    "  print(a[i])\n",
    "except:\n",
    "  print(\"there is no such index\")\n"
   ]
  },
  {
   "cell_type": "code",
   "execution_count": 4,
   "id": "c4fb253a-4942-442e-b102-ab1102d2cdb5",
   "metadata": {},
   "outputs": [
    {
     "ename": "SyntaxError",
     "evalue": "cannot assign to literal here. Maybe you meant '==' instead of '='? (3416990505.py, line 1)",
     "output_type": "error",
     "traceback": [
      "\u001b[1;36m  Cell \u001b[1;32mIn[4], line 1\u001b[1;36m\u001b[0m\n\u001b[1;33m    1= (int)input(\"enter the num in list:\").split()\u001b[0m\n\u001b[1;37m    ^\u001b[0m\n\u001b[1;31mSyntaxError\u001b[0m\u001b[1;31m:\u001b[0m cannot assign to literal here. Maybe you meant '==' instead of '='?\n"
     ]
    }
   ],
   "source": [
    "1= (int)input(\"enter the num in list:\").split()\n",
    "\n",
    "def list_num_equality(L):\n",
    "    for i in range(1, Len(L)):\n",
    "      if sum(L[0:i]) == sum(L[i+1:]):\n",
    "        return i\n",
    "\n",
    "for i in range(len[1]):\n",
    "    1[i] = int(1[i])\n",
    "\n",
    "print(check_sum_equality(l))"
   ]
  },
  {
   "cell_type": "code",
   "execution_count": 10,
   "id": "2383fa3d-0734-47dc-8dcb-d31150dd1c08",
   "metadata": {},
   "outputs": [
    {
     "name": "stdout",
     "output_type": "stream",
     "text": [
      "1.5\n",
      "no error\n",
      "code expection is done \n"
     ]
    }
   ],
   "source": [
    "student_grades={1:'kee',2:'dee'}\n",
    "try:\n",
    "    total=0\n",
    "    total=sum(student_grades)\n",
    "    num=len(student_grades)\n",
    "    average=total/num\n",
    "    print(average)\n",
    "except  ZeroDivisionError:\n",
    "    print(\"dictionary is empty\")\n",
    "else:\n",
    "    print(\"no error\")\n",
    "finally:\n",
    "    print(\"code expection is done \")"
   ]
  },
  {
   "cell_type": "code",
   "execution_count": 19,
   "id": "63ef00a4-483c-4229-8f42-c2909f0fc0a0",
   "metadata": {},
   "outputs": [
    {
     "name": "stdin",
     "output_type": "stream",
     "text": [
      " #\n"
     ]
    },
    {
     "name": "stdout",
     "output_type": "stream",
     "text": [
      "A is a upper case caracter\n"
     ]
    }
   ],
   "source": [
    "a=input()\n",
    "if a.upper():\n",
    "    print(\"A is a upper case caracter\")\n",
    "elif a.isover():\n",
    "     print(\"A is a lower  case caracter\")\n",
    "elif a.isnumeric():\n",
    "     print(\"A is a number\")\n",
    "else:\n",
    "     print:(\"A is a special caracter\")"
   ]
  },
  {
   "cell_type": "code",
   "execution_count": 35,
   "id": "0b381ee8-2df8-4a6a-bd97-a560c6be625f",
   "metadata": {},
   "outputs": [
    {
     "name": "stdin",
     "output_type": "stream",
     "text": [
      " 67\n"
     ]
    },
    {
     "name": "stdout",
     "output_type": "stream",
     "text": [
      "not even\n"
     ]
    }
   ],
   "source": [
    "a=input()\n",
    "flag = 0\n",
    "for i in range (0,int(len(a)/2)):\n",
    "    if a[i] != a[(i+1)*-1]:\n",
    "       flag = 1\n",
    "    break\n",
    "if flag:\n",
    "        print(\"not pallindrome\")\n",
    "else:\n",
    "     print(\"pallindrome\")"
   ]
  },
  {
   "cell_type": "code",
   "execution_count": 1,
   "id": "a8f00c0c-47a3-4a6a-a225-e7b77d7cc8eb",
   "metadata": {},
   "outputs": [
    {
     "name": "stdout",
     "output_type": "stream",
     "text": [
      "Sum of all elements in the list: 11.5\n"
     ]
    }
   ],
   "source": [
    "def sum_of_list(lst):\n",
    "    total = 0\n",
    "    for item in lst:\n",
    "        try:\n",
    "            \n",
    "            num = float(item)\n",
    "       \n",
    "            total += num\n",
    "        except ValueError:\n",
    "           \n",
    "            continue\n",
    "    return total\n",
    "\n",
    "\n",
    "my_list = [1, 2, '3', 'four', 5.5]\n",
    "total_sum = sum_of_list(my_list)\n",
    "print(\"Sum of all elements in the list:\", total_sum)\n"
   ]
  },
  {
   "cell_type": "code",
   "execution_count": 2,
   "id": "03623973-b5dd-47ae-9051-573c07b7e93d",
   "metadata": {},
   "outputs": [
    {
     "name": "stdout",
     "output_type": "stream",
     "text": [
      "Average grade: 82.5\n",
      "Average grade when the dictionary is empty: 0\n"
     ]
    }
   ],
   "source": [
    "def calculate_average_grade(student_grades):\n",
    "    if not student_grades:\n",
    "        return 0\n",
    "    \n",
    "    total_grades = sum(student_grades.values())\n",
    "    average_grade = total_grades / len(student_grades)\n",
    "    return average_grade\n",
    "\n",
    "\n",
    "student_grades = {'Alice': 85, 'Bob': 90, 'Charlie': 75, 'David': 80}\n",
    "average_grade = calculate_average_grade(student_grades)\n",
    "print(\"Average grade:\", average_grade)\n",
    "\n",
    "\n",
    "empty_student_grades = {}\n",
    "average_empty_grade = calculate_average_grade(empty_student_grades)\n",
    "print(\"Average grade when the dictionary is empty:\", average_empty_grade)\n"
   ]
  },
  {
   "cell_type": "code",
   "execution_count": null,
   "id": "c82fc8e2-788b-460d-8111-80d4da780e6c",
   "metadata": {},
   "outputs": [],
   "source": []
  }
 ],
 "metadata": {
  "kernelspec": {
   "display_name": "Python 3 (ipykernel)",
   "language": "python",
   "name": "python3"
  },
  "language_info": {
   "codemirror_mode": {
    "name": "ipython",
    "version": 3
   },
   "file_extension": ".py",
   "mimetype": "text/x-python",
   "name": "python",
   "nbconvert_exporter": "python",
   "pygments_lexer": "ipython3",
   "version": "3.12.3"
  }
 },
 "nbformat": 4,
 "nbformat_minor": 5
}
