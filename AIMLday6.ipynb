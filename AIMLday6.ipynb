{
 "cells": [
  {
   "cell_type": "code",
   "execution_count": null,
   "id": "b07794c1-c01e-4916-a9ce-268b6413b5bf",
   "metadata": {},
   "outputs": [],
   "source": [
    "#crete a prg for vechile \n",
    "employee s.staff-work type w area, developer module teach ,experince manager project client "
   ]
  },
  {
   "cell_type": "code",
   "execution_count": 10,
   "id": "80e1ee81-50cc-49d9-9108-8b12079b1dc3",
   "metadata": {},
   "outputs": [
    {
     "name": "stdout",
     "output_type": "stream",
     "text": [
      "Make: Toyota\n",
      "Model: Corolla\n",
      "Year: 2022\n",
      "Color: Blue\n",
      "Current Speed: 0 mph\n",
      "\n"
     ]
    }
   ],
   "source": [
    "class Vehicle:\n",
    "    def __init__(self, make, model, year, color):\n",
    "        self.make = make\n",
    "        self.model = model\n",
    "        self.year = year\n",
    "        self.color = color\n",
    "        self.speed = 0\n",
    "    \n",
    "    def accelerate(self, increment):\n",
    "        self.speed += increment\n",
    "    \n",
    "    def brake(self, decrement):\n",
    "        if self.speed >= decrement:\n",
    "            self.speed -= decrement\n",
    "        else:\n",
    "            self.speed = 0\n",
    "    \n",
    "    def display_info(self):\n",
    "        print(f\"Make: {self.make}\")\n",
    "        print(f\"Model: {self.model}\")\n",
    "        print(f\"Year: {self.year}\")\n",
    "        print(f\"Color: {self.color}\")\n",
    "        print(f\"Current Speed: {self.speed} mph\")\n",
    "\n",
    "\n",
    "\n",
    "car = Vehicle(\"Toyota\", \"Corolla\", 2022, \"Blue\")\n",
    "car.display_info()\n",
    "print(\"\")\n"
   ]
  },
  {
   "cell_type": "code",
   "execution_count": 40,
   "id": "3923154e-4758-49c5-8fa2-61e40b76648b",
   "metadata": {},
   "outputs": [
    {
     "name": "stdout",
     "output_type": "stream",
     "text": [
      "The work of staff: 456 dk 67000 type mothi\n",
      "The work of developers: tayota nik 23 234 sudha\n",
      "The work of manager: crop helid prince 456 raj 45000\n"
     ]
    }
   ],
   "source": [
    "class Employee:\n",
    "    def __init__(self, i, n, s):\n",
    "        self.id = i\n",
    "        self.name = n\n",
    "        self.salary = s\n",
    "\n",
    "class Staff(Employee):\n",
    "    def __init__(self, i, n, s, t, a):\n",
    "        self.work_type = t\n",
    "        self.work_area = a\n",
    "        super().__init__(i, n, s)\n",
    "\n",
    "class Developer(Employee):\n",
    "    def __init__(self, i, n, s, m, t, e):\n",
    "        self.module = m\n",
    "        self.tech = t\n",
    "        self.experience = e\n",
    "        super().__init__(i, n, s)\n",
    "\n",
    "class Manager(Employee):\n",
    "    def __init__(self, i, n, s, p, c):\n",
    "        self.project = p\n",
    "        self.client = c\n",
    "        super().__init__(i, n, s)\n",
    "\n",
    "ob1 = Staff('456', 'dk', '67000', 'type', 'mothi')\n",
    "ob2 = Developer('tayota', 'nik', '23', '234', 'sudha', '56000')\n",
    "ob3 = Manager('crop helid', 'prince', '456', 'raj', '45000')\n",
    "\n",
    "print(\"The work of staff:\", ob1.id, ob1.name, ob1.salary, ob1.work_type, ob1.work_area)\n",
    "print(\"The work of developers:\", ob2.id, ob2.name, ob2.salary, ob2.module, ob2.tech)\n",
    "print(\"The work of manager:\", ob3.id, ob3.name, ob3.salary, ob3.project, ob3.client)\n"
   ]
  },
  {
   "cell_type": "code",
   "execution_count": 46,
   "id": "1008d655-5fc7-407c-8e99-78b7724f36b5",
   "metadata": {},
   "outputs": [
    {
     "ename": "TypeError",
     "evalue": "stu.__init__() takes 4 positional arguments but 6 were given",
     "output_type": "error",
     "traceback": [
      "\u001b[1;31m---------------------------------------------------------------------------\u001b[0m",
      "\u001b[1;31mTypeError\u001b[0m                                 Traceback (most recent call last)",
      "Cell \u001b[1;32mIn[46], line 19\u001b[0m\n\u001b[0;32m     16\u001b[0m         \u001b[38;5;28mself\u001b[39m\u001b[38;5;241m.\u001b[39mf \u001b[38;5;241m=\u001b[39m f\n\u001b[0;32m     17\u001b[0m         \u001b[38;5;28msuper\u001b[39m()\u001b[38;5;241m.\u001b[39m\u001b[38;5;21m__init__\u001b[39m(i, n,b)\n\u001b[1;32m---> 19\u001b[0m ob1 \u001b[38;5;241m=\u001b[39m \u001b[43mstu\u001b[49m\u001b[43m(\u001b[49m\u001b[38;5;124;43m'\u001b[39;49m\u001b[38;5;124;43m401\u001b[39;49m\u001b[38;5;124;43m'\u001b[39;49m\u001b[43m,\u001b[49m\u001b[43m \u001b[49m\u001b[38;5;124;43m'\u001b[39;49m\u001b[38;5;124;43mkee\u001b[39;49m\u001b[38;5;124;43m'\u001b[39;49m\u001b[43m,\u001b[49m\u001b[43m \u001b[49m\u001b[38;5;124;43m'\u001b[39;49m\u001b[38;5;124;43mai\u001b[39;49m\u001b[38;5;124;43m'\u001b[39;49m\u001b[43m,\u001b[49m\u001b[43m \u001b[49m\u001b[38;5;124;43m'\u001b[39;49m\u001b[38;5;124;43ma\u001b[39;49m\u001b[38;5;124;43m'\u001b[39;49m\u001b[43m,\u001b[49m\u001b[43m \u001b[49m\u001b[38;5;124;43m'\u001b[39;49m\u001b[38;5;124;43mb\u001b[39;49m\u001b[38;5;124;43m'\u001b[39;49m\u001b[43m)\u001b[49m\n\u001b[0;32m     20\u001b[0m ob2 \u001b[38;5;241m=\u001b[39m dep(\u001b[38;5;124m'\u001b[39m\u001b[38;5;124m402\u001b[39m\u001b[38;5;124m'\u001b[39m, \u001b[38;5;124m'\u001b[39m\u001b[38;5;124mdee\u001b[39m\u001b[38;5;124m'\u001b[39m, \u001b[38;5;124m'\u001b[39m\u001b[38;5;124maiml\u001b[39m\u001b[38;5;124m'\u001b[39m, \u001b[38;5;124m'\u001b[39m\u001b[38;5;124mc\u001b[39m\u001b[38;5;124m'\u001b[39m, \u001b[38;5;124m'\u001b[39m\u001b[38;5;124md\u001b[39m\u001b[38;5;124m'\u001b[39m)\n\u001b[0;32m     23\u001b[0m \u001b[38;5;28mprint\u001b[39m(\u001b[38;5;124m\"\u001b[39m\u001b[38;5;124mThe no of stu:\u001b[39m\u001b[38;5;124m\"\u001b[39m, ob1\u001b[38;5;241m.\u001b[39mid, ob1\u001b[38;5;241m.\u001b[39mname, ob1\u001b[38;5;241m.\u001b[39mbranch, ob1\u001b[38;5;241m.\u001b[39msec,ob1\u001b[38;5;241m.\u001b[39mc,ob1\u001b[38;5;241m.\u001b[39me)\n",
      "\u001b[1;31mTypeError\u001b[0m: stu.__init__() takes 4 positional arguments but 6 were given"
     ]
    }
   ],
   "source": [
    "class stu:\n",
    "    def __init__(self, i, n, b):\n",
    "        self.id = i\n",
    "        self.name = n\n",
    "        self.branch = b\n",
    "\n",
    "class dep(stu):\n",
    "    def __init__(self, i, n, b, c,e):\n",
    "        self.cs = c\n",
    "        self.eee = e\n",
    "        super().__init__(i, n, b)\n",
    "\n",
    "class sec(stu):\n",
    "    def __init__(self, i, n, b,a,f):\n",
    "        self.a = a\n",
    "        self.f = f\n",
    "        super().__init__(i, n,b)\n",
    "\n",
    "ob1 = stu('401', 'kee', 'ai', 'a', 'b')\n",
    "ob2 = dep('402', 'dee', 'aiml', 'c', 'd')\n",
    "\n",
    "\n",
    "print(\"The no of stu:\", ob1.id, ob1.name, ob1.branch, ob1.sec,ob1.c,ob1.e)\n",
    "print(\"The no of dep:\", ob2.id, ob2.name, ob2.branch, ob2.sec,ob2.co,b2.e)\n"
   ]
  },
  {
   "cell_type": "code",
   "execution_count": 39,
   "id": "976e295b-deb8-40fa-afd5-c539db55e432",
   "metadata": {},
   "outputs": [
    {
     "name": "stdout",
     "output_type": "stream",
     "text": [
      "[0, 1]\n"
     ]
    }
   ],
   "source": [
    "nums = [2, 7, 11, 15]\n",
    "target = 9\n",
    "print(two_sum(nums, target))  \n"
   ]
  },
  {
   "cell_type": "code",
   "execution_count": 15,
   "id": "1f78a0b9-5939-4981-a932-1a9dd40dbb36",
   "metadata": {},
   "outputs": [
    {
     "name": "stdout",
     "output_type": "stream",
     "text": [
      "* \n",
      "* * \n",
      "* * * \n",
      "* * * * \n",
      "* * * * * \n"
     ]
    }
   ],
   "source": [
    "def print_pattern(rows):\n",
    "    for i in range(1, rows + 1):\n",
    "        for j in range(1, i + 1):\n",
    "            print(\"*\", end=\" \")\n",
    "        print()\n",
    "\n",
    "print_pattern(5)\n"
   ]
  },
  {
   "cell_type": "code",
   "execution_count": 39,
   "id": "af819e80-38af-4d31-81e3-32b76060cbf7",
   "metadata": {},
   "outputs": [
    {
     "name": "stdout",
     "output_type": "stream",
     "text": [
      "    * \n",
      "   * * \n",
      "  * * * \n",
      " * * * * \n",
      "* * * * * \n"
     ]
    }
   ],
   "source": [
    "def print_center_pattern(rows):\n",
    "    for i in range(1, rows + 1):\n",
    "       \n",
    "        print(\" \" * (rows - i), end=\"\")\n",
    "        \n",
    "       \n",
    "        for j in range(1, i + 1):\n",
    "            print(\"*\", end=\" \")\n",
    "        \n",
    "        print()\n",
    "\n",
    "print_center_pattern(5)\n"
   ]
  },
  {
   "cell_type": "code",
   "execution_count": 52,
   "id": "032a0b8c-f01f-4224-8578-8855beac4ad1",
   "metadata": {},
   "outputs": [
    {
     "name": "stdout",
     "output_type": "stream",
     "text": [
      "    * \n",
      "   * * \n",
      "  * * * \n",
      " * * * * \n",
      "* * * * * \n"
     ]
    }
   ],
   "source": [
    "def print_diamond_pattern(rows):\n",
    "    for i in range(1, rows + 1):\n",
    "       \n",
    "        print(\" \" * (rows - i), end=\"\")\n",
    "        \n",
    "       \n",
    "        for j in range(1, i + 1):\n",
    "            print(\"*\", end=\" \")\n",
    "        \n",
    "        print()\n",
    "\n",
    "print_diamond_pattern(5)\n"
   ]
  },
  {
   "cell_type": "code",
   "execution_count": 33,
   "id": "63f40248-e2f0-43bf-9da2-0b1a4e07abfe",
   "metadata": {},
   "outputs": [
    {
     "name": "stdout",
     "output_type": "stream",
     "text": [
      "1 \n",
      "1 2 \n",
      "1 2 3 \n",
      "1 2 3 4 \n",
      "1 2 3 4 5 \n"
     ]
    }
   ],
   "source": [
    "def print_number_pattern(rows):\n",
    "    for i in range(1, rows + 1):\n",
    "        for j in range(1, i + 1):\n",
    "            print(j, end=\" \")\n",
    "        print()\n",
    "\n",
    "print_number_pattern(5)\n"
   ]
  },
  {
   "cell_type": "code",
   "execution_count": 28,
   "id": "94bfcf30-c581-45bd-a758-6b6b99d34bb2",
   "metadata": {},
   "outputs": [
    {
     "name": "stdout",
     "output_type": "stream",
     "text": [
      "* * * * * \n",
      "* * * * * \n",
      "* * * * * \n",
      "* * * * * \n",
      "* * * * * \n"
     ]
    }
   ],
   "source": [
    "def print_square_pattern(rows):\n",
    "    for i in range(rows):\n",
    "        for j in range(rows):\n",
    "            print(\"*\", end=\" \")\n",
    "        print()\n",
    "\n",
    "print_square_pattern(5)\n"
   ]
  },
  {
   "cell_type": "code",
   "execution_count": 50,
   "id": "62ead2d1-6f16-40d5-9876-4fb431d70879",
   "metadata": {},
   "outputs": [
    {
     "name": "stdout",
     "output_type": "stream",
     "text": [
      "    1 \n",
      "   1 2 \n",
      "  1 2 3 \n",
      " 1 2 3 4 \n",
      "1 2 3 4 5 \n"
     ]
    }
   ],
   "source": [
    "def print_center_number_pattern(rows):\n",
    "    for i in range(1, rows + 1):\n",
    "       \n",
    "        print(\" \" * (rows - i), end=\"\")\n",
    "        \n",
    "       \n",
    "        for j in range(1, i + 1):\n",
    "            print(j, end=\" \")\n",
    "\n",
    "        \n",
    "        print()\n",
    "\n",
    "print_center_number_pattern(5)\n"
   ]
  },
  {
   "cell_type": "code",
   "execution_count": 47,
   "id": "49e6cfed-4514-4845-a12f-b8cd9b378322",
   "metadata": {},
   "outputs": [
    {
     "name": "stdout",
     "output_type": "stream",
     "text": [
      "*                 * \n",
      "* *             * * \n",
      "* * *         * * * \n",
      "* * * *     * * * * \n",
      "* * * * * * * * * * \n",
      "* * * * * * * * * * \n",
      "* * * *     * * * * \n",
      "* * *         * * * \n",
      "* *             * * \n",
      "*                 * \n"
     ]
    }
   ],
   "source": [
    "def print_butterfly_pattern(rows):\n",
    "    \n",
    "    for i in range(1, rows + 1):\n",
    "        for j in range(1, i + 1):\n",
    "            print(\"*\", end=\" \")\n",
    "        for j in range(2 * (rows - i)):\n",
    "            print(\" \", end=\" \")\n",
    "        for j in range(1, i + 1):\n",
    "            print(\"*\", end=\" \")\n",
    "        print()\n",
    "\n",
    "\n",
    "    for i in range(rows, 0, -1):\n",
    "        for j in range(1, i + 1):\n",
    "            print(\"*\", end=\" \")\n",
    "        for j in range(2 * (rows - i)):\n",
    "            print(\" \", end=\" \")\n",
    "        for j in range(1, i + 1):\n",
    "            print(\"*\", end=\" \")\n",
    "        print()\n",
    "\n",
    "print_butterfly_pattern(5)\n"
   ]
  },
  {
   "cell_type": "code",
   "execution_count": 3,
   "id": "fcd894bc-54ee-4d4a-b0e7-a64566b749d2",
   "metadata": {},
   "outputs": [
    {
     "name": "stdout",
     "output_type": "stream",
     "text": [
      "*****\n",
      "*   *\n",
      "*   *\n",
      "*   *\n",
      "*****\n"
     ]
    }
   ],
   "source": [
    "def print_hollow_square(rows):\n",
    "    for i in range(rows):\n",
    "        if i == 0 or i == rows - 1:\n",
    "            print(\"*\" * rows)\n",
    "        else:\n",
    "            print(\"*\" + \" \" * (rows - 2) + \"*\")\n",
    "\n",
    "print_hollow_square(5)\n"
   ]
  },
  {
   "cell_type": "code",
   "execution_count": 4,
   "id": "19077699-1f9f-4263-ab7e-68c6cbb38f4a",
   "metadata": {},
   "outputs": [
    {
     "name": "stdout",
     "output_type": "stream",
     "text": [
      "    **\n",
      "   * *\n",
      "  *   *\n",
      " *     *\n",
      "*********\n"
     ]
    }
   ],
   "source": [
    "def print_hollow_triangle(rows):\n",
    "    for i in range(1, rows + 1):\n",
    "        if i == rows:\n",
    "            print(\"*\" * (2 * i - 1))\n",
    "        else:\n",
    "            print(\" \" * (rows - i) + \"*\" + \" \" * (2 * i - 3) + \"*\")\n",
    "\n",
    "print_hollow_triangle(5)\n"
   ]
  },
  {
   "cell_type": "code",
   "execution_count": 6,
   "id": "c5c0f406-c275-4cbe-941c-ab14e5929758",
   "metadata": {},
   "outputs": [
    {
     "name": "stdout",
     "output_type": "stream",
     "text": [
      "*******\n",
      "*     *\n",
      "*     *\n",
      "*     *\n",
      "*******\n"
     ]
    }
   ],
   "source": [
    "def print_hollow_rectangle(rows, cols):\n",
    "    for i in range(rows):\n",
    "        if i == 0 or i == rows - 1:\n",
    "            print(\"*\" * cols)\n",
    "        else:\n",
    "            print(\"*\" + \" \" * (cols - 2) + \"*\")\n",
    "\n",
    "print_hollow_rectangle(5, 7)\n"
   ]
  },
  {
   "cell_type": "code",
   "execution_count": 7,
   "id": "304f54ec-74aa-48fc-85df-2195b03cfb3a",
   "metadata": {},
   "outputs": [
    {
     "name": "stdout",
     "output_type": "stream",
     "text": [
      "*\n",
      " *\n",
      "  *\n",
      "   *\n",
      "    *\n"
     ]
    }
   ],
   "source": [
    "def print_diagonal_line(rows):\n",
    "    for i in range(rows):\n",
    "        print(\" \" * i + \"*\")\n",
    "\n",
    "print_diagonal_line(5)\n"
   ]
  },
  {
   "cell_type": "code",
   "execution_count": 8,
   "id": "0f5e9947-e7ba-4f92-b342-39eac1da52ac",
   "metadata": {},
   "outputs": [
    {
     "name": "stdout",
     "output_type": "stream",
     "text": [
      "    *\n",
      "   ***\n",
      "  *****\n",
      " *******\n",
      "*********\n",
      " *******\n",
      "  *****\n",
      "   ***\n",
      "    *\n"
     ]
    }
   ],
   "source": [
    "def print_diamond(rows):\n",
    "    for i in range(1, rows + 1):\n",
    "        print(\" \" * (rows - i) + \"*\" * (2 * i - 1))\n",
    "    for i in range(rows - 1, 0, -1):\n",
    "        print(\" \" * (rows - i) + \"*\" * (2 * i - 1))\n",
    "\n",
    "print_diamond(5)\n"
   ]
  },
  {
   "cell_type": "code",
   "execution_count": 9,
   "id": "30348b17-3e3a-4229-a77c-b9f2cda728e3",
   "metadata": {},
   "outputs": [
    {
     "name": "stdout",
     "output_type": "stream",
     "text": [
      "*********\n",
      " *******\n",
      "  *****\n",
      "   ***\n",
      "    *\n",
      "   ***\n",
      "  *****\n",
      " *******\n",
      "*********\n"
     ]
    }
   ],
   "source": [
    "def print_hourglass(rows):\n",
    "    for i in range(rows, 0, -1):\n",
    "        print(\" \" * (rows - i) + \"*\" * (2 * i - 1))\n",
    "    for i in range(2, rows + 1):\n",
    "        print(\" \" * (rows - i) + \"*\" * (2 * i - 1))\n",
    "\n",
    "print_hourglass(5)\n"
   ]
  },
  {
   "cell_type": "code",
   "execution_count": 10,
   "id": "51c50f07-f89a-4cff-9f8d-8ca4faf7a00e",
   "metadata": {},
   "outputs": [
    {
     "name": "stdout",
     "output_type": "stream",
     "text": [
      "**********\n",
      "*        *\n",
      "**********\n",
      "*        *\n",
      "**********\n"
     ]
    }
   ],
   "source": [
    "def print_zigzag(rows, cols):\n",
    "    for i in range(1, rows + 1):\n",
    "        for j in range(1, cols + 1):\n",
    "            if i % 2 != 0:\n",
    "                print(\"*\", end=\"\")\n",
    "            else:\n",
    "                if j == cols or j == 1:\n",
    "                    print(\"*\", end=\"\")\n",
    "                else:\n",
    "                    print(\" \", end=\"\")\n",
    "        print()\n",
    "\n",
    "print_zigzag(5, 10)\n"
   ]
  },
  {
   "cell_type": "code",
   "execution_count": 12,
   "id": "9a83fbd5-87f5-4d61-824d-1c5a90bae6e4",
   "metadata": {},
   "outputs": [
    {
     "name": "stdout",
     "output_type": "stream",
     "text": [
      "    *\n",
      "   * *\n",
      "  *   *\n",
      " *     *\n",
      "*       *\n"
     ]
    }
   ],
   "source": [
    "def print_hollow_pyramid(rows):\n",
    "    for i in range(1, rows + 1):\n",
    "        print(\" \" * (rows - i) + \"*\" + \" \" * (2 * i - 3) + \"*\" * (i != 1))\n",
    "\n",
    "print_hollow_pyramid(5)\n"
   ]
  },
  {
   "cell_type": "code",
   "execution_count": 15,
   "id": "b2e8c5d4-5b4b-452e-a2a7-61a6c560abc9",
   "metadata": {},
   "outputs": [
    {
     "name": "stdout",
     "output_type": "stream",
     "text": [
      "*****\n",
      "****\n",
      "***\n",
      "**\n",
      "*\n"
     ]
    }
   ],
   "source": [
    "def print_inverted_right_triangle(rows):\n",
    "    for i in range(rows, 0, -1):\n",
    "        print(\"*\" * i)\n",
    "\n",
    "print_inverted_right_triangle(5)\n"
   ]
  },
  {
   "cell_type": "code",
   "execution_count": 16,
   "id": "5bd485cb-7a66-43a6-a7d4-63abbdda420a",
   "metadata": {},
   "outputs": [
    {
     "name": "stdout",
     "output_type": "stream",
     "text": [
      "*\n",
      "**\n",
      "***\n",
      "****\n",
      "*****\n",
      "****\n",
      "***\n",
      "**\n",
      "*\n"
     ]
    }
   ],
   "source": [
    "def print_half_diamond(rows):\n",
    "    for i in range(1, rows + 1):\n",
    "        print(\"*\" * i)\n",
    "    for i in range(rows - 1, 0, -1):\n",
    "        print(\"*\" * i)\n",
    "\n",
    "print_half_diamond(5)\n"
   ]
  },
  {
   "cell_type": "code",
   "execution_count": 17,
   "id": "3888ed8b-a6b6-474c-9c5c-332771d9317c",
   "metadata": {},
   "outputs": [
    {
     "name": "stdout",
     "output_type": "stream",
     "text": [
      "*\n",
      "**\n",
      "* *\n",
      "*  *\n",
      "*****\n",
      "*  *\n",
      "* *\n",
      "**\n",
      "*\n"
     ]
    }
   ],
   "source": [
    "def print_hollow_half_diamond(rows):\n",
    "    for i in range(1, rows + 1):\n",
    "        if i == 1 or i == rows:\n",
    "            print(\"*\" * i)\n",
    "        else:\n",
    "            print(\"*\" + \" \" * (i - 2) + \"*\")\n",
    "    for i in range(rows - 1, 0, -1):\n",
    "        if i == 1 or i == rows:\n",
    "            print(\"*\" * i)\n",
    "        else:\n",
    "            print(\"*\" + \" \" * (i - 2) + \"*\")\n",
    "\n",
    "print_hollow_half_diamond(5)\n"
   ]
  },
  {
   "cell_type": "code",
   "execution_count": 19,
   "id": "6ee539a1-cad4-4860-92a3-572d14f5de48",
   "metadata": {},
   "outputs": [
    {
     "name": "stdout",
     "output_type": "stream",
     "text": [
      "*   *\n",
      " * * \n",
      "  *  \n",
      " * * \n",
      "*   *\n"
     ]
    }
   ],
   "source": [
    "def print_cross(rows):\n",
    "    for i in range(rows):\n",
    "        for j in range(rows):\n",
    "            if j == i or j == rows - i - 1:\n",
    "                print(\"*\", end=\"\")\n",
    "            else:\n",
    "                print(\" \", end=\"\")\n",
    "        print()\n",
    "\n",
    "print_cross(5)\n"
   ]
  },
  {
   "cell_type": "code",
   "execution_count": 27,
   "id": "247cde11-4bde-4559-98ca-6dc714dd8aca",
   "metadata": {},
   "outputs": [
    {
     "name": "stdout",
     "output_type": "stream",
     "text": [
      "*****\n",
      "*  *\n",
      "* *\n",
      "**\n",
      "*\n"
     ]
    }
   ],
   "source": [
    "def print_hollow_upside_down_triangle(rows):\n",
    "    for i in range(rows, 0, -1):\n",
    "        if i == rows or i == 1:\n",
    "            print(\"*\" * i)\n",
    "        else:\n",
    "            print(\"*\" + \" \" * (i - 2) + \"*\")\n",
    "\n",
    "print_hollow_upside_down_triangle(5)\n"
   ]
  },
  {
   "cell_type": "code",
   "execution_count": 29,
   "id": "a5a8e1d6-a4c3-45fe-ae23-4c755ce74248",
   "metadata": {},
   "outputs": [
    {
     "name": "stdout",
     "output_type": "stream",
     "text": [
      "    *****\n",
      "*   *\n",
      "*   *\n",
      "*   *\n",
      "*****\n"
     ]
    }
   ],
   "source": [
    "def print_hollow_rhombus(rows):\n",
    "    for i in range(1, rows + 1):\n",
    "        print(\" \" * (rows - i) + \"*\" * rows if i == 1 or i == rows else \"*\" + \" \" * (rows - 2) + \"*\")\n",
    "\n",
    "print_hollow_rhombus(5)\n"
   ]
  },
  {
   "cell_type": "code",
   "execution_count": null,
   "id": "1b1374da-1d8d-446f-81bb-dc171cdfb561",
   "metadata": {},
   "outputs": [],
   "source": []
  }
 ],
 "metadata": {
  "kernelspec": {
   "display_name": "Python 3 (ipykernel)",
   "language": "python",
   "name": "python3"
  },
  "language_info": {
   "codemirror_mode": {
    "name": "ipython",
    "version": 3
   },
   "file_extension": ".py",
   "mimetype": "text/x-python",
   "name": "python",
   "nbconvert_exporter": "python",
   "pygments_lexer": "ipython3",
   "version": "3.12.3"
  }
 },
 "nbformat": 4,
 "nbformat_minor": 5
}
