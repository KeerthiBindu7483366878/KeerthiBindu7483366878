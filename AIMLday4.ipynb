{
 "cells": [
  {
   "cell_type": "code",
   "execution_count": 19,
   "id": "40d5a9c3-c679-4664-8ea1-f4dc871af9f5",
   "metadata": {},
   "outputs": [
    {
     "name": "stdin",
     "output_type": "stream",
     "text": [
      " 9\n"
     ]
    },
    {
     "name": "stdout",
     "output_type": "stream",
     "text": [
      "prime\n"
     ]
    }
   ],
   "source": [
    "a=int(input())\n",
    "for i  in range(2,int(a/2)):\n",
    "    if a%i==0:\n",
    "        print(\"not prime\")\n",
    "        break\n",
    "    else:\n",
    "        print(\"prime\")\n",
    "        break"
   ]
  },
  {
   "cell_type": "code",
   "execution_count": 25,
   "id": "822bf628-c903-4845-8979-8dce4bb2da8d",
   "metadata": {},
   "outputs": [
    {
     "name": "stdout",
     "output_type": "stream",
     "text": [
      "This\n",
      "222\n",
      "is\n",
      "222\n",
      "the\n",
      "222\n",
      "first\n",
      "222\n",
      "text\n",
      "222\n",
      "in\n",
      "222\n",
      "file\n",
      "222\n",
      "This\n",
      "222\n",
      "is\n",
      "222\n",
      "the\n",
      "222\n",
      "second\n",
      "222\n",
      "text\n",
      "222\n",
      "in\n",
      "222\n",
      "file\n",
      "222\n"
     ]
    }
   ],
   "source": [
    "import os \n",
    "\n",
    "with open(\"file1.txt\",'w') as f:\n",
    "   f.write(\"This is the  first text in file\\n\")\n",
    "\n",
    "with open(\"file1.txt\",'a') as f:\n",
    "   f.write(\"This is the second text in file\\n\")\n",
    "\n",
    "with open(\"file1.txt\",'r') as f:\n",
    "    for a in f.read().split():\n",
    "        print(a)\n",
    "        print(222)\n",
    "\n",
    "f.close()\n",
    "\n",
    "\n",
    "\n"
   ]
  },
  {
   "cell_type": "code",
   "execution_count": 9,
   "id": "0afa3f73-8ec1-409b-b3be-c073927aa425",
   "metadata": {},
   "outputs": [],
   "source": [
    "import os \n",
    "\n",
    "with open(\"file.txt\",'w')as f:\n",
    "    f.write(\"\\nthis is the first text in file\\n\")\n",
    "    f.close()         "
   ]
  },
  {
   "cell_type": "code",
   "execution_count": 10,
   "id": "a1927f96-290f-41df-8732-adc593fcaf85",
   "metadata": {},
   "outputs": [],
   "source": [
    "import os \n",
    "\n",
    "with open(\"file4.txt\",'a')as f:\n",
    "    f.write(\"\\nthis is the first text in file\\n\")\n",
    "    f.close()            "
   ]
  },
  {
   "cell_type": "code",
   "execution_count": 11,
   "id": "99d7cf7b-eb09-495e-aa6f-41015188df09",
   "metadata": {},
   "outputs": [
    {
     "name": "stdout",
     "output_type": "stream",
     "text": [
      "this\n",
      "111\n",
      "is\n",
      "111\n",
      "the\n",
      "111\n",
      "first\n",
      "111\n",
      "text\n",
      "111\n",
      "in\n",
      "111\n",
      "file\n",
      "111\n"
     ]
    }
   ],
   "source": [
    "import os \n",
    "with open(\"file4.txt\",'r')as f:\n",
    "    for a in f.read().split():\n",
    "        print(a)\n",
    "        print(\"111\")\n",
    "\n",
    "f.close()"
   ]
  },
  {
   "cell_type": "code",
   "execution_count": 12,
   "id": "823d7ee9-2ec0-4e5c-9b2b-511143619890",
   "metadata": {},
   "outputs": [
    {
     "name": "stdin",
     "output_type": "stream",
     "text": [
      "Enter the name of the fruit:   Apple Banana Mango Grapes\n",
      "Enter a fruit name (or 'exit' to stop):  exit\n"
     ]
    },
    {
     "name": "stdout",
     "output_type": "stream",
     "text": [
      "Fruit names have been added to  apple banana mango grapes.txt\n",
      "Current fruit names:\n",
      "[]\n"
     ]
    },
    {
     "name": "stdin",
     "output_type": "stream",
     "text": [
      "Enter the fruit name to replace:   Banana with watermelon\n",
      "Enter the new fruit name:  mango \n"
     ]
    },
    {
     "name": "stdout",
     "output_type": "stream",
     "text": [
      "Fruit names have been replaced in  apple banana mango grapes.txt\n"
     ]
    }
   ],
   "source": [
    "def create_fruit_file(fruit_name):\n",
    "    file_name = fruit_name.lower() + \".txt\"\n",
    "    with open(file_name, 'w') as file:\n",
    "        while True:\n",
    "            fruit = input(\"Enter a fruit name (or 'exit' to stop): \")\n",
    "            if fruit.lower() == 'exit':\n",
    "                break\n",
    "            file.write(fruit + \"\\n\")\n",
    "    print(\"Fruit names have been added to\", file_name)\n",
    "\n",
    "def replace_fruit(fruit_name):\n",
    "    file_name = fruit_name.lower() + \".txt\"\n",
    "    try:\n",
    "        with open(file_name, 'r') as file:\n",
    "            fruit_names = file.readlines()\n",
    "            print(\"Current fruit names:\")\n",
    "            print(fruit_names)\n",
    "        \n",
    "        old_fruit = input(\"Enter the fruit name to replace: \").strip()\n",
    "        new_fruit = input(\"Enter the new fruit name: \").strip()\n",
    "\n",
    "        with open(file_name, 'w') as file:\n",
    "            for fruit in fruit_names:\n",
    "                if fruit.strip() == old_fruit:\n",
    "                    file.write(new_fruit + \"\\n\")\n",
    "                else:\n",
    "                    file.write(fruit)\n",
    "        \n",
    "        print(\"Fruit names have been replaced in\", file_name)\n",
    "\n",
    "    except IOError:\n",
    "        print(\"Error: Unable to open or write to the file.\")\n",
    "\n",
    "def main():\n",
    "    fruit_name = input(\"Enter the name of the fruit: \")\n",
    "    create_fruit_file(fruit_name)\n",
    "    replace_fruit(fruit_name)\n",
    "\n",
    "if __name__ == \"__main__\":\n",
    "    main()"
   ]
  },
  {
   "cell_type": "code",
   "execution_count": 14,
   "id": "b7c28d41-3bd1-4797-9c25-c7b6719b669b",
   "metadata": {},
   "outputs": [
    {
     "name": "stdin",
     "output_type": "stream",
     "text": [
      "Enter the temperature in Celsius:  1\n"
     ]
    },
    {
     "name": "stdout",
     "output_type": "stream",
     "text": [
      "Temperature in Fahrenheit: 33.8\n"
     ]
    }
   ],
   "source": [
    "def celsius_to_fahrenheit(celsius):\n",
    "    fahrenheit = (celsius * 9/5) + 32\n",
    "    return fahrenheit\n",
    "\n",
    "celsius_temperature = float(input(\"Enter the temperature in Celsius: \"))\n",
    "fahrenheit_temperature = celsius_to_fahrenheit(celsius_temperature)\n",
    "print(\"Temperature in Fahrenheit:\", fahrenheit_temperature)\n"
   ]
  },
  {
   "cell_type": "code",
   "execution_count": 19,
   "id": "bf26d8d5-cf34-432a-9f7f-b9d967cb4bb9",
   "metadata": {},
   "outputs": [
    {
     "name": "stdout",
     "output_type": "stream",
     "text": [
      "Second largest element in the list: 10\n"
     ]
    }
   ],
   "source": [
    "def second_largest_element(lst):\n",
    "   \n",
    "    sorted_list = sorted(lst, reverse=True)\n",
    "    \n",
    "  \n",
    "    if len(sorted_list) < 2:\n",
    "        print(\"List has less than two elements.\")\n",
    "        return None\n",
    "    \n",
    "   \n",
    "    return sorted_list[1]\n",
    "\n",
    "\n",
    "my_list = [5, 10, 3, 8, 15]\n",
    "second_largest = second_largest_element(my_list)\n",
    "if second_largest is not None:\n",
    "    print(\"Second largest element in the list:\", second_largest)"
   ]
  },
  {
   "cell_type": "code",
   "execution_count": 20,
   "id": "2df7c2dc-87d8-40be-ac63-42ec8f2b1e4a",
   "metadata": {},
   "outputs": [
    {
     "name": "stdout",
     "output_type": "stream",
     "text": [
      "Occurrences of each element in the list:\n",
      "1: 4\n",
      "2: 3\n",
      "3: 2\n",
      "4: 1\n"
     ]
    }
   ],
   "source": [
    "from collections import Counter\n",
    "\n",
    "def count_occurrences(lst):\n",
    "    \n",
    "    occurrences = Counter(lst)\n",
    "    return occurrences\n",
    "\n",
    "\n",
    "my_list = [1, 2, 3, 4, 1, 2, 3, 1, 2, 1]\n",
    "occurrences = count_occurrences(my_list)\n",
    "print(\"Occurrences of each element in the list:\")\n",
    "for element, count in occurrences.items():\n",
    "    print(f\"{element}: {count}\")"
   ]
  },
  {
   "cell_type": "code",
   "execution_count": 25,
   "id": "643395a3-396a-4f08-b0fc-d9c0b15cc240",
   "metadata": {},
   "outputs": [
    {
     "name": "stdout",
     "output_type": "stream",
     "text": [
      "Sum of all even numbers in the list: 30\n"
     ]
    }
   ],
   "source": [
    "def sum_of_even_numbers(lst):\n",
    "    \n",
    "    even_numbers = [num for num in lst if num % 2 == 0]\n",
    "    \n",
    "   \n",
    "    sum_even = sum(even_numbers)\n",
    "    \n",
    "    return sum_even\n",
    "\n",
    "my_list = [1, 2, 3, 4, 5, 6, 7, 8, 9, 10]\n",
    "sum_even = sum_of_even_numbers(my_list)\n",
    "print(\"Sum of all even numbers in the list:\" ,sum_even)"
   ]
  },
  {
   "cell_type": "code",
   "execution_count": 27,
   "id": "8f3a38cf-13d3-4323-afd4-8ee96b978849",
   "metadata": {},
   "outputs": [
    {
     "name": "stdout",
     "output_type": "stream",
     "text": [
      "Number of vowels in the string: 2\n"
     ]
    }
   ],
   "source": [
    "def count_vowels(string):\n",
    "\n",
    "    vowels = {'a', 'e', 'i', 'h', 'u'}\n",
    "    \n",
    "  \n",
    "    vowel_count = 0\n",
    "    \n",
    "  \n",
    "    for char in string:\n",
    "        \n",
    "        if char.lower() in vowels:\n",
    "            vowel_count += 1\n",
    "    \n",
    "    return vowel_count\n",
    "\n",
    "my_string = \"Hello World\"\n",
    "vowel_count = count_vowels(my_string)\n",
    "print(\"Number of vowels in the string:\", vowel_count)"
   ]
  },
  {
   "cell_type": "code",
   "execution_count": 30,
   "id": "7fa9f763-7d2e-4384-9d8b-d2ba59c1bc85",
   "metadata": {},
   "outputs": [
    {
     "name": "stdout",
     "output_type": "stream",
     "text": [
      "Reversed sentence: you? are how world, Hello\n"
     ]
    }
   ],
   "source": [
    "def reverse_words(sentence):\n",
    "    \n",
    "    words = sentence.split()\n",
    "    \n",
    "   \n",
    "    reversed_words = words[::-1]\n",
    "    \n",
    "    reversed_sentence = ' '.join(reversed_words)\n",
    "    \n",
    "    return reversed_sentence\n",
    "\n",
    "\n",
    "my_sentence = \"Hello world, how are you?\"\n",
    "reversed_sentence = reverse_words(my_sentence)\n",
    "print(\"Reversed sentence:\", reversed_sentence)"
   ]
  },
  {
   "cell_type": "code",
   "execution_count": 31,
   "id": "8d45cf01-a642-435f-b6f5-70f68b12cf4f",
   "metadata": {},
   "outputs": [
    {
     "name": "stdin",
     "output_type": "stream",
     "text": [
      "Enter a sentence:  hi keerthi\n"
     ]
    },
    {
     "name": "stdout",
     "output_type": "stream",
     "text": [
      "Reversed sentence: keerthi hi\n"
     ]
    }
   ],
   "source": [
    "def reverse_words(sentence):\n",
    "    \n",
    "    words = sentence.split()\n",
    "\n",
    "   \n",
    "    reversed_words = words[::-1]\n",
    "\n",
    "    \n",
    "    reversed_sentence = ' '.join(reversed_words)\n",
    "\n",
    "    return reversed_sentence\n",
    "\n",
    "\n",
    "input_sentence = input(\"Enter a sentence: \")\n",
    "reversed_sentence = reverse_words(input_sentence)\n",
    "print(\"Reversed sentence:\", reversed_sentence)"
   ]
  },
  {
   "cell_type": "code",
   "execution_count": null,
   "id": "8c79c140-1b5e-4dcd-8291-a28e1cc5c3b5",
   "metadata": {},
   "outputs": [],
   "source": [
    "import os \n",
    "\n",
    "with open(\"fruit_names,'w') as f:\n",
    "          n=[x for x in input(\"enter the fruits names seerated by spaces\")"
   ]
  }
 ],
 "metadata": {
  "kernelspec": {
   "display_name": "Python 3 (ipykernel)",
   "language": "python",
   "name": "python3"
  },
  "language_info": {
   "codemirror_mode": {
    "name": "ipython",
    "version": 3
   },
   "file_extension": ".py",
   "mimetype": "text/x-python",
   "name": "python",
   "nbconvert_exporter": "python",
   "pygments_lexer": "ipython3",
   "version": "3.12.3"
  }
 },
 "nbformat": 4,
 "nbformat_minor": 5
}
