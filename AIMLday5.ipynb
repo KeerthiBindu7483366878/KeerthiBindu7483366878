{
 "cells": [
  {
   "cell_type": "code",
   "execution_count": 7,
   "id": "0f2861ec-280a-4929-9006-e2b18850e10e",
   "metadata": {},
   "outputs": [
    {
     "name": "stdout",
     "output_type": "stream",
     "text": [
      "File Dosen't exist\n"
     ]
    }
   ],
   "source": [
    "import os \n",
    "try:\n",
    "   with open(\"sample.txt\",'r') as F:\n",
    "    pass\n",
    "except FileNotFoundError:\n",
    "    print(\"File Dosen't exist\")"
   ]
  },
  {
   "cell_type": "code",
   "execution_count": 39,
   "id": "e67c3101-2860-4bbe-a882-50646a241907",
   "metadata": {},
   "outputs": [],
   "source": [
    "with open(\"sample.tx\",'w') as F:\n",
    "    pass"
   ]
  },
  {
   "cell_type": "code",
   "execution_count": 13,
   "id": "0e5e3a42-ed48-4e02-84db-03292581c049",
   "metadata": {},
   "outputs": [
    {
     "name": "stdout",
     "output_type": "stream",
     "text": [
      "<class 'int'>\n"
     ]
    }
   ],
   "source": [
    "a=5\n",
    "print(type(a))"
   ]
  },
  {
   "cell_type": "code",
   "execution_count": 16,
   "id": "792173d4-1b56-436d-8eda-8cc951094f79",
   "metadata": {},
   "outputs": [
    {
     "name": "stdout",
     "output_type": "stream",
     "text": [
      "this laptop have i5 8gm 1TB SSD\n"
     ]
    }
   ],
   "source": [
    "class laptop:\n",
    "    def confing(self):\n",
    "        print(\"this laptop have i5 8gm 1TB SSD\")\n",
    "\n",
    "hp =laptop()\n",
    "\n",
    "hp.confing()\n",
    "        "
   ]
  },
  {
   "cell_type": "code",
   "execution_count": 22,
   "id": "6f8f22e7-2d85-412d-a606-87efe9f8862f",
   "metadata": {},
   "outputs": [
    {
     "name": "stdout",
     "output_type": "stream",
     "text": [
      "This laptop have i5 8gm 1TB SSD\n",
      "0\n",
      "0\n"
     ]
    }
   ],
   "source": [
    "class laptop:\n",
    "    a=0\n",
    "    def confing(self):\n",
    "        print(\"This laptop have i5 8gm 1TB SSD\")\n",
    "\n",
    "\n",
    "hp =laptop()\n",
    "lenevo =laptop()\n",
    "dell =laptop()\n",
    "\n",
    "hp.confing()\n",
    "print(hp.a)\n",
    "hp.a=hp.a+1\n",
    "print(dell.a)\n",
    "        "
   ]
  },
  {
   "cell_type": "code",
   "execution_count": 36,
   "id": "8dbb2750-b982-40c7-9fe7-cc189fa3b30c",
   "metadata": {},
   "outputs": [
    {
     "name": "stdout",
     "output_type": "stream",
     "text": [
      "0\n"
     ]
    }
   ],
   "source": [
    "class laptop:\n",
    "    def confing(self):\n",
    "        print(\"This laptop have 15\")\n",
    "    def __init__(self,value):\n",
    "         self.b=value\n",
    "\n",
    "Accer=laptop(0)\n",
    "print(Accer.b)"
   ]
  },
  {
   "cell_type": "code",
   "execution_count": null,
   "id": "072f6f20-8b26-4763-94f4-7edba452555e",
   "metadata": {},
   "outputs": [],
   "source": [
    "#create a laptop class \n",
    "#with variable as processor, Ram And Stronge\n",
    "\n",
    "#create 3 object of laptop with differnt brand and display its configuration \n",
    "\n",
    "#create a class students which can hold the marks in 5 subject and also create a function to print the marks and calculate the avg of 5 sub \n",
    "\n",
    "#write a prg to demonstrate the working of a rawilawy  tiicket booking.\n",
    "create required classes like \n",
    "ticket class | general ticket | sleeper ti | AC ti | fist class ti\n",
    "shown the uses of incheritance in this and create a proper ti booking model for indian railway \n",
    "after booking the ti you have shown the final ticket price to the customer.\n",
    "A 500kms| B 600kms |c 400kms\n",
    "booking charges : 50| distance charges:2/km| sleeper charges:2km | AC charges:4/km |first class charges:5/km"
   ]
  },
  {
   "cell_type": "code",
   "execution_count": 40,
   "id": "07dd9d6c-6458-4d96-b339-603ae45acf82",
   "metadata": {},
   "outputs": [
    {
     "name": "stdout",
     "output_type": "stream",
     "text": [
      "Brand: Dell\n",
      "Model: XPS 13\n",
      "Processor: Intel Core i7\n",
      "RAM: 16GB\n",
      "Storage: 512GB\n",
      "Screen Size: 13.3 inches\n",
      "\n",
      "---Upgrading RAM---\n",
      "RAM upgraded to 32GB\n",
      "Brand: Dell\n",
      "Model: XPS 13\n",
      "Processor: Intel Core i7\n",
      "RAM: 32GB\n",
      "Storage: 512GB\n",
      "Screen Size: 13.3 inches\n",
      "\n",
      "---Upgrading Storage---\n",
      "Storage upgraded to 1024GB\n",
      "Brand: Dell\n",
      "Model: XPS 13\n",
      "Processor: Intel Core i7\n",
      "RAM: 32GB\n",
      "Storage: 1024GB\n",
      "Screen Size: 13.3 inches\n"
     ]
    }
   ],
   "source": [
    "class Laptop:\n",
    "    def __init__(self, brand, model, processor, ram, storage, screen_size):\n",
    "        self.brand = brand\n",
    "        self.model = model\n",
    "        self.processor = processor\n",
    "        self.ram = ram  \n",
    "        self.storage = storage  \n",
    "        self.screen_size = screen_size\n",
    "\n",
    "    def display_info(self):\n",
    "        print(f\"Brand: {self.brand}\")\n",
    "        print(f\"Model: {self.model}\")\n",
    "        print(f\"Processor: {self.processor}\")\n",
    "        print(f\"RAM: {self.ram}GB\")\n",
    "        print(f\"Storage: {self.storage}GB\")\n",
    "        print(f\"Screen Size: {self.screen_size} inches\")\n",
    "\n",
    "    def upgrade_ram(self, new_ram):\n",
    "        self.ram = new_ram\n",
    "        print(f\"RAM upgraded to {self.ram}GB\")\n",
    "\n",
    "    def upgrade_storage(self, new_storage):\n",
    "        self.storage = new_storage\n",
    "        print(f\"Storage upgraded to {self.storage}GB\")\n",
    "\n",
    "\n",
    "laptop1 = Laptop(\"Dell\", \"XPS 13\", \"Intel Core i7\", 16, 512, 13.3)\n",
    "laptop1.display_info()\n",
    "\n",
    "print(\"\\n---Upgrading RAM---\")\n",
    "laptop1.upgrade_ram(32)\n",
    "laptop1.display_info()\n",
    "\n",
    "print(\"\\n---Upgrading Storage---\")\n",
    "laptop1.upgrade_storage(1024)\n",
    "laptop1.display_info()\n"
   ]
  },
  {
   "cell_type": "code",
   "execution_count": 43,
   "id": "1eb7b538-5a31-4d63-8c9e-51d65ae4fd86",
   "metadata": {},
   "outputs": [
    {
     "name": "stdout",
     "output_type": "stream",
     "text": [
      "Subject Marks for John: [85, 90, 78, 92, 88]\n",
      "Average Marks for John: 86.6\n"
     ]
    }
   ],
   "source": [
    "class Student:\n",
    "    def __init__(self, name, marks):\n",
    "        self.name = name\n",
    "        self.marks = marks\n",
    "    \n",
    "    def print_marks(self):\n",
    "        print(f\"Subject Marks for {self.name}: {self.marks}\")\n",
    "    \n",
    "    def calculate_average(self):\n",
    "        return sum(self.marks) / len(self.marks)\n",
    "\n",
    "\n",
    "if __name__ == \"__main__\":\n",
    "    student1 = Student(\"John\", [85, 90, 78, 92, 88])\n",
    "    \n",
    "\n",
    "    student1.print_marks()\n",
    "    \n",
    "   \n",
    "    average_marks = student1.calculate_average()\n",
    "    print(f\"Average Marks for {student1.name}: {average_marks}\")\n",
    "\n"
   ]
  },
  {
   "cell_type": "code",
   "execution_count": 27,
   "id": "aa7d2b28-eec0-476f-8a14-df24f5a84ef9",
   "metadata": {},
   "outputs": [
    {
     "ename": "IndentationError",
     "evalue": "unindent does not match any outer indentation level (<string>, line 7)",
     "output_type": "error",
     "traceback": [
      "\u001b[1;36m  File \u001b[1;32m<string>:7\u001b[1;36m\u001b[0m\n\u001b[1;33m    def output__Z(self):\u001b[0m\n\u001b[1;37m                        ^\u001b[0m\n\u001b[1;31mIndentationError\u001b[0m\u001b[1;31m:\u001b[0m unindent does not match any outer indentation level\n"
     ]
    }
   ],
   "source": [
    "class demo:\n",
    "    def __init__(self,a,b,c):\n",
    "         self.X=a\n",
    "         self._Y=b\n",
    "         self.__Z=c\n",
    "\n",
    "   def output__Z(self):\n",
    "       print(self.__Z)\n",
    "\n",
    "   def output_X(self):\n",
    "       print(self.X)\n",
    "\n",
    "   def output_Y(self):\n",
    "       print(self._Y)\n",
    "\n",
    "\n",
    "ob= demo(1,2,3)\n",
    "ob1.outputX()\n",
    "ob1.output_Y()\n",
    "ob1.output__Z()\n",
    "\n",
    "print(\"public variable:\",ob1.X)"
   ]
  },
  {
   "cell_type": "code",
   "execution_count": 22,
   "id": "d6609288-597c-46a4-862d-08bc6d6bf555",
   "metadata": {},
   "outputs": [
    {
     "name": "stdout",
     "output_type": "stream",
     "text": [
      "this is fun1\n",
      "this is fun2\n"
     ]
    }
   ],
   "source": [
    "#constructor\n",
    "class a:\n",
    "    def fun1(self):\n",
    "        print(\"this is fun1\")\n",
    "    def fun2(self):\n",
    "        print(\"this is fun2\")\n",
    "\n",
    "class b(a):\n",
    "    def fun3(self):\n",
    "        print(\"this is fun3\")\n",
    "    def fun4(self):\n",
    "        print(\"this is fun4\")   \n",
    "if __name__==\"__main__\":\n",
    "    ob1=a()\n",
    "    ob2=b()\n",
    "   \n",
    "\n",
    "    ob1.fun1()\n",
    "    ob2.fun2()\n",
    "  "
   ]
  },
  {
   "cell_type": "code",
   "execution_count": 30,
   "id": "c5977f7c-e640-48dd-94c7-717167f7ae73",
   "metadata": {},
   "outputs": [
    {
     "name": "stdout",
     "output_type": "stream",
     "text": [
      "constructer of class a\n",
      "constructer of class b\n",
      "constructer of class c\n",
      "constructer of class d\n"
     ]
    }
   ],
   "source": [
    "class a:\n",
    "    def __init__(self):\n",
    "        print(\"constructer of class a\")\n",
    "class b:\n",
    "    def __init__(self):\n",
    "        print(\"constructer of class b\")\n",
    "class c:\n",
    "    def __init__(self):\n",
    "        print(\"constructer of class c\")\n",
    "class d:\n",
    "    def __init__(self):\n",
    "        print(\"constructer of class d\")\n",
    "\n",
    "if __name__==\"__main__\":      \n",
    "    ob1=a()\n",
    "    ob2=b()\n",
    "    ob3=c()\n",
    "    ob4=d()\n",
    "  "
   ]
  },
  {
   "cell_type": "code",
   "execution_count": 49,
   "id": "6b687bc0-6d5b-45ea-a00f-51b917b82140",
   "metadata": {},
   "outputs": [
    {
     "name": "stdout",
     "output_type": "stream",
     "text": [
      "constructor of class c\n",
      "9 5\n"
     ]
    }
   ],
   "source": [
    "class c:\n",
    "    def __init__(self,a=9,b=5):\n",
    "        print(\"constructor of class c\")\n",
    "        self.x=a\n",
    "        self.y=b\n",
    "        print(self.x,self.y)\n",
    "    \n",
    "ob=c()"
   ]
  },
  {
   "cell_type": "code",
   "execution_count": 54,
   "id": "f7cc0ddc-bdc0-461b-a26a-9820539718d5",
   "metadata": {},
   "outputs": [
    {
     "name": "stdout",
     "output_type": "stream",
     "text": [
      "constructor of class b\n",
      "printing of the class c\n",
      "printing  of the class c\n"
     ]
    }
   ],
   "source": [
    "class a:\n",
    "    def __init__(self):\n",
    "        print(\"constructor of class a\")\n",
    "    def show(self):\n",
    "        print(\"printing  of the class a\")\n",
    "\n",
    "class b(a):\n",
    "    def __init__(self):\n",
    "        print(\"constructor of class b\")\n",
    "    def show(self):\n",
    "        print(\"printing  of the class c\")\n",
    "\n",
    "class c(b):\n",
    "    def __init__(self):\n",
    "        print(\"constructor of class b\")\n",
    "    def show(self):\n",
    "        print(\"printing of the class c\")              \n",
    "        super().show()\n",
    "class d(a):\n",
    "    def __init__(self):\n",
    "        print(\"constructor of class c\")\n",
    "    def show(self):\n",
    "        print(\"printing  of the class d\")        \n",
    "\n",
    "if __name__==\"__main__\":\n",
    "       ob1=c()\n",
    "       ob1.show()\n",
    "    "
   ]
  },
  {
   "cell_type": "code",
   "execution_count": 18,
   "id": "4f3ffef6-5c0b-4200-9b8c-12002555ffba",
   "metadata": {},
   "outputs": [
    {
     "name": "stdout",
     "output_type": "stream",
     "text": [
      "Professional laptop having: i5 8 512 6-cell\n",
      "Gaming laptop having: i7 9 535 Nvidia GTX 1650\n"
     ]
    }
   ],
   "source": [
    "class Laptop:\n",
    "    def __init__(self,p,r,s):\n",
    "        self.processor = p\n",
    "        self.ram = r\n",
    "        self.storage = s\n",
    "\n",
    "class ProfLaptop(Laptop):\n",
    "     def __init__(self,p,r,s,b):\n",
    "         self.battery = b\n",
    "         super().__init__(p,r,s)\n",
    "\n",
    "class GamingLaptop(Laptop):\n",
    "     def __init__(self,p,r,s,g):\n",
    "         self.graphic = g\n",
    "         super().__init__(p,r,s)\n",
    "\n",
    "pro1 = ProfLaptop(\"i5\", 8, 512,\"6-cell\")\n",
    "gam1 = GamingLaptop(\"i7\", 9, 535,\"Nvidia GTX 1650\")\n",
    "\n",
    "print(\"Professional laptop having:\",\n",
    "      pro1.processor, pro1.ram,\n",
    "      pro1.storage, pro1.battery)\n",
    "\n",
    "print(\"Gaming laptop having:\",\n",
    "      gam1.processor, gam1.ram,\n",
    "      gam1.storage, gam1.graphic)\n"
   ]
  },
  {
   "cell_type": "code",
   "execution_count": 20,
   "id": "435698d9-6edf-4e70-b0ad-50cd0d5d8a6b",
   "metadata": {},
   "outputs": [
    {
     "ename": "TypeError",
     "evalue": "FC() takes no arguments",
     "output_type": "error",
     "traceback": [
      "\u001b[1;31m---------------------------------------------------------------------------\u001b[0m",
      "\u001b[1;31mTypeError\u001b[0m                                 Traceback (most recent call last)",
      "Cell \u001b[1;32mIn[20], line 39\u001b[0m\n\u001b[0;32m     35\u001b[0m         \u001b[38;5;28mself\u001b[39m\u001b[38;5;241m.\u001b[39mfarePrice\u001b[38;5;241m=\u001b[39m\u001b[38;5;28msuper\u001b[39m()\u001b[38;5;241m.\u001b[39mprint_ticket()\u001b[38;5;241m+\u001b[39m(\u001b[38;5;241m5\u001b[39m\u001b[38;5;241m*\u001b[39m\u001b[38;5;28mself\u001b[39m\u001b[38;5;241m.\u001b[39mdistance)\n\u001b[0;32m     36\u001b[0m         \u001b[38;5;28;01mreturn\u001b[39;00m \u001b[38;5;28mself\u001b[39m\u001b[38;5;241m.\u001b[39mfarePrice\n\u001b[1;32m---> 39\u001b[0m jur\u001b[38;5;241m=\u001b[39m\u001b[43mFC\u001b[49m\u001b[43m(\u001b[49m\u001b[38;5;241;43m500\u001b[39;49m\u001b[43m)\u001b[49m\n\u001b[0;32m     40\u001b[0m \u001b[38;5;28mprint\u001b[39m(\u001b[38;5;124m\"\u001b[39m\u001b[38;5;124mTicket booked Fare Price will be: \u001b[39m\u001b[38;5;124m\"\u001b[39m,jur\u001b[38;5;241m.\u001b[39mprint_ticket())\n",
      "\u001b[1;31mTypeError\u001b[0m: FC() takes no arguments"
     ]
    }
   ],
   "source": [
    "class ticket:\n",
    "   \n",
    "    def _init_(self,D):\n",
    "        self.distance = int(D)\n",
    "        self.farePrice = None\n",
    "\n",
    "class gen(ticket):\n",
    "    def _init_(self,D):\n",
    "        super()._init_(D)\n",
    "    def print_ticket(self):\n",
    "        self.farePrice=50+(self.distance*2)\n",
    "        return self.farePrice\n",
    "        \n",
    "\n",
    "\n",
    "class slp(gen):\n",
    "    def _init_(self,D):\n",
    "        super()._init_(D)\n",
    "\n",
    "    def print_ticket(self):\n",
    "        self.farePrice=super().print_ticket()+(2*self.distance)\n",
    "        return self.farePrice\n",
    "\n",
    "class AC(slp):\n",
    "    def _init_(self,D):\n",
    "        super()._init_(D)\n",
    "    def print_ticket(self):\n",
    "        self.farePrice=super().print_ticket()+(4*self.distance)\n",
    "        return self.farePrice\n",
    "\n",
    "class FC(AC):\n",
    "    def _init_(self,D):\n",
    "        super()._init_(D)\n",
    "    def print_ticket(self):\n",
    "        self.farePrice=super().print_ticket()+(5*self.distance)\n",
    "        return self.farePrice\n",
    "\n",
    "\n",
    "jur=FC(500)\n",
    "print(\"Ticket booked Fare Price will be: \",jur.print_ticket())"
   ]
  },
  {
   "cell_type": "code",
   "execution_count": null,
   "id": "a866a754-4107-44d7-842a-5787c2574399",
   "metadata": {},
   "outputs": [],
   "source": []
  }
 ],
 "metadata": {
  "kernelspec": {
   "display_name": "Python 3 (ipykernel)",
   "language": "python",
   "name": "python3"
  },
  "language_info": {
   "codemirror_mode": {
    "name": "ipython",
    "version": 3
   },
   "file_extension": ".py",
   "mimetype": "text/x-python",
   "name": "python",
   "nbconvert_exporter": "python",
   "pygments_lexer": "ipython3",
   "version": "3.12.3"
  }
 },
 "nbformat": 4,
 "nbformat_minor": 5
}
